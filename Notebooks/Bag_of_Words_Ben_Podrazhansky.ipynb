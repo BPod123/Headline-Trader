{
 "cells": [
  {
   "cell_type": "code",
   "execution_count": 1,
   "metadata": {
    "collapsed": true,
    "pycharm": {
     "name": "#%%\n"
    }
   },
   "outputs": [],
   "source": [
    "import numpy as np\n",
    "import torch\n",
    "from torch import nn\n",
    "from torch.utils.data import DataLoader, RandomSampler\n",
    "import tqdm\n",
    "from BOW_data_format import prepare_data"
   ]
  },
  {
   "cell_type": "code",
   "execution_count": 2,
   "outputs": [
    {
     "name": "stdout",
     "output_type": "stream",
     "text": [
      "[*********************100%***********************]  1 of 1 completed\n",
      "[*********************100%***********************]  1 of 1 completed\n",
      "[*********************100%***********************]  1 of 1 completed\n",
      "[*********************100%***********************]  1 of 1 completed\n",
      "[*********************100%***********************]  1 of 1 completed\n",
      "[*********************100%***********************]  1 of 1 completed\n"
     ]
    }
   ],
   "source": [
    "prepared = prepare_data()\n",
    "title_data = prepared['title_data']\n",
    "train_data = prepared['train']\n",
    "validation_data = prepared['validation']\n",
    "test_data = prepared['test']\n",
    "vocab = prepared['vocab']\n",
    "PAD_ID = prepared['PAD_ID']"
   ],
   "metadata": {
    "collapsed": false,
    "pycharm": {
     "name": "#%%\n"
    }
   }
  },
  {
   "cell_type": "code",
   "execution_count": 3,
   "outputs": [],
   "source": [
    "device = torch.device('cuda' if torch.cuda.is_available() else 'cpu')\n",
    "# device = 'cpu'\n",
    "titles = nn.utils.rnn.pad_sequence([torch.LongTensor(title_data[i]) if i in title_data else torch.LongTensor([PAD_ID]) for i in range(max(title_data) + 1)], batch_first=True).contiguous()"
   ],
   "metadata": {
    "collapsed": false,
    "pycharm": {
     "name": "#%%\n"
    }
   }
  },
  {
   "cell_type": "markdown",
   "source": [
    "## Create Data Loaders"
   ],
   "metadata": {
    "collapsed": false,
    "pycharm": {
     "name": "#%% md\n"
    }
   }
  },
  {
   "cell_type": "code",
   "execution_count": 4,
   "outputs": [],
   "source": [
    "def bag_of_words_collate(batch):\n",
    "    batch_arr = np.array(batch).T\n",
    "    data = titles[batch_arr[0]]\n",
    "    labels = torch.FloatTensor(batch_arr[1]).to(device)\n",
    "    return data.to(device), labels.squeeze()"
   ],
   "metadata": {
    "collapsed": false,
    "pycharm": {
     "name": "#%%\n"
    }
   }
  },
  {
   "cell_type": "markdown",
   "source": [],
   "metadata": {
    "collapsed": false,
    "pycharm": {
     "name": "#%% md\n"
    }
   }
  },
  {
   "cell_type": "code",
   "execution_count": 5,
   "outputs": [],
   "source": [
    "BATCH_SIZE = 8\n",
    "train_iter = DataLoader(train_data, batch_size=BATCH_SIZE, sampler=RandomSampler(train_data), collate_fn=bag_of_words_collate)\n",
    "validation_iter = DataLoader(validation_data, sampler=RandomSampler(validation_data), batch_size=BATCH_SIZE, collate_fn=bag_of_words_collate, drop_last=False)\n",
    "test_iter = DataLoader(test_data, sampler=RandomSampler(test_data), batch_size=BATCH_SIZE, collate_fn=bag_of_words_collate, drop_last=False)"
   ],
   "metadata": {
    "collapsed": false,
    "pycharm": {
     "name": "#%%\n"
    }
   }
  },
  {
   "cell_type": "markdown",
   "source": [
    "## Make the Model"
   ],
   "metadata": {
    "collapsed": false,
    "pycharm": {
     "name": "#%% md\n"
    }
   }
  },
  {
   "cell_type": "code",
   "execution_count": 6,
   "outputs": [],
   "source": [
    "class BagOfWords(nn.Module):\n",
    "    def __init__(self, vocab_size, embedding_dim, dropout=0.4):\n",
    "        super(BagOfWords, self).__init__()\n",
    "        self.embedding = nn.Embedding(vocab_size, embedding_dim)\n",
    "        self.dropout = nn.Dropout(dropout)\n",
    "        self.linear = nn.Linear(embedding_dim, 1)\n",
    "        self.activation = nn.Sigmoid()\n",
    "    def forward(self, x):\n",
    "        out = self.logit(x)\n",
    "        out = self.activation(out)\n",
    "        return out\n",
    "    def logit(self, x):\n",
    "        out = self.embedding(x)\n",
    "        out = self.dropout(out.mean(1))\n",
    "        out = self.linear(out)\n",
    "        return out\n"
   ],
   "metadata": {
    "collapsed": false,
    "pycharm": {
     "name": "#%%\n"
    }
   }
  },
  {
   "cell_type": "markdown",
   "source": [
    "## Evaluation"
   ],
   "metadata": {
    "collapsed": false,
    "pycharm": {
     "name": "#%% md\n"
    }
   }
  },
  {
   "cell_type": "code",
   "execution_count": 7,
   "outputs": [],
   "source": [
    "def eval_model(model, data_iter):\n",
    "    model.eval()\n",
    "    predictions, all_labels= [], []\n",
    "    for (data, labels) in data_iter:\n",
    "        out = model(data)\n",
    "        predictions.append(out.unsqueeze(0))\n",
    "        all_labels.append(labels.unsqueeze(0))\n",
    "    pred = torch.cat(predictions, axis=1).squeeze().round().to('cpu')\n",
    "    true = torch.cat(all_labels, axis=1).squeeze().to('cpu')\n",
    "    recalls = []\n",
    "    precisions = []\n",
    "    f1_scores = []\n",
    "    for selected_class in range(2):\n",
    "        tp = ((pred == selected_class) & (true == selected_class)).sum()\n",
    "        fp = ((pred == selected_class) & (true != selected_class)).sum()\n",
    "        fn = ((pred != selected_class) & (true == selected_class)).sum()\n",
    "        recall = tp / (tp + fn) if tp + fn != 0 else 0\n",
    "        precision = tp / (tp + fp) if tp + fp != 0 else 0\n",
    "        f1 = (2 * precision * recall) / (precision + recall) if precision + recall != 0 else 0\n",
    "        recalls.append(recall)\n",
    "        precisions.append(precision)\n",
    "        f1_scores.append(f1)\n",
    "\n",
    "    return pred, true, recalls, precisions, f1_scores\n",
    "\n",
    "def eval_on_test_set(model):\n",
    "    _, _, recalls, precisions, f1_scores = eval_model(model, test_iter)\n",
    "    print(f\"\"\"Run on Test Data:\n",
    "    Down: Recall: {recalls[0]}\\tPrecision: {precisions[0]}\\tF1: {f1_scores[0]}\n",
    "    Up: Recall: {recalls[1]}\\tPrecision: {precisions[1]}\\tF1: {f1_scores[1]}\n",
    "    AVERAGE: Recall: {sum(recalls) / 2}\\tPrecision: {sum(precisions) / 2}\\tF1: {sum(f1_scores) / 2}\"\"\")\n",
    "\n",
    "def eval_summary(epoch):\n",
    "        _, _, recalls, precisions, f1_scores = eval_model(model, validation_iter)\n",
    "        print(f\"\"\"Epoch {epoch} Validation:\n",
    "Down: Recall: {recalls[0]}\\tPrecision: {precisions[0]}\\tF1: {f1_scores[0]}\n",
    "Up: Recall: {recalls[1]}\\tPrecision: {precisions[1]}\\tF1: {f1_scores[1]}\n",
    "AVERAGE: Recall: {sum(recalls) / 2}\\tPrecision: {sum(precisions) / 2}\\tF1: {sum(f1_scores) / 2}\"\"\")"
   ],
   "metadata": {
    "collapsed": false,
    "pycharm": {
     "name": "#%%\n"
    }
   }
  },
  {
   "cell_type": "markdown",
   "source": [
    "## Training Loop"
   ],
   "metadata": {
    "collapsed": false,
    "pycharm": {
     "name": "#%% md\n"
    }
   }
  },
  {
   "cell_type": "code",
   "execution_count": 8,
   "outputs": [],
   "source": [
    "def train_model(model, data_iter, epochs, optimizer, scheduler, loss_func):\n",
    "    epoch_average_losses = []\n",
    "    with tqdm.notebook.trange(epochs, desc='training', unit='epoch') as epoch_iter:\n",
    "        for epoch in epoch_iter:\n",
    "            model.train()\n",
    "            epoch_loss = 0\n",
    "            epoch_samples = 0\n",
    "            with tqdm.notebook.tqdm(data_iter, desc=f\"epoch {epoch + 1}\", unit='batch', total=len(data_iter)) as batch_iter:\n",
    "                for i, (data, labels) in enumerate(batch_iter, start=1):\n",
    "                    optimizer.zero_grad()\n",
    "                    output = model.logit(data)\n",
    "                    loss = loss_func(output.squeeze(), labels.squeeze())\n",
    "\n",
    "                    loss.backward()\n",
    "                    optimizer.step()\n",
    "                    epoch_loss += loss.item()\n",
    "                    epoch_samples += data.shape[0]\n",
    "\n",
    "                    batch_iter.set_postfix(mean_epoch_loss=epoch_loss / i)\n",
    "                if epoch % 5 == 0:\n",
    "                    eval_summary(epoch + 1)\n",
    "\n",
    "\n",
    "\n",
    "\n",
    "\n",
    "            avg_epoch_loss = epoch_loss / epoch_samples\n",
    "            scheduler.step(avg_epoch_loss)\n",
    "            epoch_average_losses.append(avg_epoch_loss)\n",
    "\n",
    "    return epoch_average_losses"
   ],
   "metadata": {
    "collapsed": false,
    "pycharm": {
     "name": "#%%\n"
    }
   }
  },
  {
   "cell_type": "code",
   "execution_count": 9,
   "outputs": [],
   "source": [
    "from torch.optim import SGD, Adam\n",
    "from torch.optim.lr_scheduler import ReduceLROnPlateau\n",
    "EPOCHS = 10"
   ],
   "metadata": {
    "collapsed": false,
    "pycharm": {
     "name": "#%%\n"
    }
   }
  },
  {
   "cell_type": "markdown",
   "source": [
    "# Pre Training Stats"
   ],
   "metadata": {
    "collapsed": false,
    "pycharm": {
     "name": "#%% md\n"
    }
   }
  },
  {
   "cell_type": "code",
   "execution_count": 10,
   "outputs": [
    {
     "name": "stdout",
     "output_type": "stream",
     "text": [
      "Run on Test Data:\n",
      "    Down: Recall: 0.0\tPrecision: 0\tF1: 0\n",
      "    Up: Recall: 1.0\tPrecision: 0.4901960790157318\tF1: 0.6578947305679321\n",
      "    AVERAGE: Recall: 0.5\tPrecision: 0.2450980395078659\tF1: 0.32894736528396606\n",
      "\n",
      "\n",
      "Epoch 0 Validation:\n",
      "Down: Recall: 0.0\tPrecision: 0\tF1: 0\n",
      "Up: Recall: 1.0\tPrecision: 0.28125\tF1: 0.4390243887901306\n",
      "AVERAGE: Recall: 0.5\tPrecision: 0.140625\tF1: 0.2195121943950653\n"
     ]
    }
   ],
   "source": [
    "torch.manual_seed(0)\n",
    "model = BagOfWords(len(vocab), 1000).to(device)\n",
    "eval_on_test_set(model)\n",
    "print('\\n')\n",
    "eval_summary(0)"
   ],
   "metadata": {
    "collapsed": false,
    "pycharm": {
     "name": "#%%\n"
    }
   }
  },
  {
   "cell_type": "markdown",
   "source": [
    "# Train Model"
   ],
   "metadata": {
    "collapsed": false,
    "pycharm": {
     "name": "#%% md\n"
    }
   }
  },
  {
   "cell_type": "code",
   "execution_count": 11,
   "outputs": [
    {
     "data": {
      "text/plain": "training:   0%|          | 0/10 [00:00<?, ?epoch/s]",
      "application/vnd.jupyter.widget-view+json": {
       "version_major": 2,
       "version_minor": 0,
       "model_id": "d7b3c4c7d424443a864e6663d95417a1"
      }
     },
     "metadata": {},
     "output_type": "display_data"
    },
    {
     "data": {
      "text/plain": "epoch 1:   0%|          | 0/99 [00:00<?, ?batch/s]",
      "application/vnd.jupyter.widget-view+json": {
       "version_major": 2,
       "version_minor": 0,
       "model_id": "e7f33261471a493c9f4355914a55ff3e"
      }
     },
     "metadata": {},
     "output_type": "display_data"
    },
    {
     "name": "stdout",
     "output_type": "stream",
     "text": [
      "Epoch 1 Validation:\n",
      "Down: Recall: 0.0\tPrecision: 0\tF1: 0\n",
      "Up: Recall: 1.0\tPrecision: 0.28125\tF1: 0.4390243887901306\n",
      "AVERAGE: Recall: 0.5\tPrecision: 0.140625\tF1: 0.2195121943950653\n"
     ]
    },
    {
     "data": {
      "text/plain": "epoch 2:   0%|          | 0/99 [00:00<?, ?batch/s]",
      "application/vnd.jupyter.widget-view+json": {
       "version_major": 2,
       "version_minor": 0,
       "model_id": "d6c8951532f34419b7f7ea8480efae39"
      }
     },
     "metadata": {},
     "output_type": "display_data"
    },
    {
     "data": {
      "text/plain": "epoch 3:   0%|          | 0/99 [00:00<?, ?batch/s]",
      "application/vnd.jupyter.widget-view+json": {
       "version_major": 2,
       "version_minor": 0,
       "model_id": "5d0049371eff42769916b946d923d38d"
      }
     },
     "metadata": {},
     "output_type": "display_data"
    },
    {
     "data": {
      "text/plain": "epoch 4:   0%|          | 0/99 [00:00<?, ?batch/s]",
      "application/vnd.jupyter.widget-view+json": {
       "version_major": 2,
       "version_minor": 0,
       "model_id": "accfbbfd9c1a4b3ba411993c08b3e8fd"
      }
     },
     "metadata": {},
     "output_type": "display_data"
    },
    {
     "data": {
      "text/plain": "epoch 5:   0%|          | 0/99 [00:00<?, ?batch/s]",
      "application/vnd.jupyter.widget-view+json": {
       "version_major": 2,
       "version_minor": 0,
       "model_id": "482399c9e2f040d8af4739a019e15f8d"
      }
     },
     "metadata": {},
     "output_type": "display_data"
    },
    {
     "data": {
      "text/plain": "epoch 6:   0%|          | 0/99 [00:00<?, ?batch/s]",
      "application/vnd.jupyter.widget-view+json": {
       "version_major": 2,
       "version_minor": 0,
       "model_id": "1245f2ded4124469b15d3aaa2eb34b17"
      }
     },
     "metadata": {},
     "output_type": "display_data"
    },
    {
     "name": "stdout",
     "output_type": "stream",
     "text": [
      "Epoch 6 Validation:\n",
      "Down: Recall: 0.0\tPrecision: 0\tF1: 0\n",
      "Up: Recall: 1.0\tPrecision: 0.28125\tF1: 0.4390243887901306\n",
      "AVERAGE: Recall: 0.5\tPrecision: 0.140625\tF1: 0.2195121943950653\n"
     ]
    },
    {
     "data": {
      "text/plain": "epoch 7:   0%|          | 0/99 [00:00<?, ?batch/s]",
      "application/vnd.jupyter.widget-view+json": {
       "version_major": 2,
       "version_minor": 0,
       "model_id": "0e371152e7f849e4af37f0af19d6af1d"
      }
     },
     "metadata": {},
     "output_type": "display_data"
    },
    {
     "data": {
      "text/plain": "epoch 8:   0%|          | 0/99 [00:00<?, ?batch/s]",
      "application/vnd.jupyter.widget-view+json": {
       "version_major": 2,
       "version_minor": 0,
       "model_id": "57df05c282854a949ae67432cee03db9"
      }
     },
     "metadata": {},
     "output_type": "display_data"
    },
    {
     "data": {
      "text/plain": "epoch 9:   0%|          | 0/99 [00:00<?, ?batch/s]",
      "application/vnd.jupyter.widget-view+json": {
       "version_major": 2,
       "version_minor": 0,
       "model_id": "705a39647c7d4d99a9cefd71f5f7d2f8"
      }
     },
     "metadata": {},
     "output_type": "display_data"
    },
    {
     "data": {
      "text/plain": "epoch 10:   0%|          | 0/99 [00:00<?, ?batch/s]",
      "application/vnd.jupyter.widget-view+json": {
       "version_major": 2,
       "version_minor": 0,
       "model_id": "d60136aaffcd4fbf9fb42e59a245cffe"
      }
     },
     "metadata": {},
     "output_type": "display_data"
    }
   ],
   "source": [
    "loss_func = nn.BCEWithLogitsLoss()\n",
    "optimizer = Adam(model.parameters(), lr=0.01)\n",
    "scheduler = ReduceLROnPlateau(optimizer, patience=2, threshold=0.01)\n",
    "history = train_model(model, train_iter, EPOCHS, optimizer, scheduler, loss_func)"
   ],
   "metadata": {
    "collapsed": false,
    "pycharm": {
     "name": "#%%\n"
    }
   }
  },
  {
   "cell_type": "markdown",
   "source": [],
   "metadata": {
    "collapsed": false,
    "pycharm": {
     "name": "#%% md\n"
    }
   }
  },
  {
   "cell_type": "code",
   "execution_count": 12,
   "outputs": [],
   "source": [
    "import os\n",
    "if not os.path.isdir('../Saved_Models'):\n",
    "    os.mkdir('../Saved_Models')\n",
    "torch.save(model, '../Saved_Models/bag_of_words.pt')\n",
    "bag = torch.load('../Saved_Models/bag_of_words.pt')"
   ],
   "metadata": {
    "collapsed": false,
    "pycharm": {
     "name": "#%%\n"
    }
   }
  },
  {
   "cell_type": "markdown",
   "source": [
    "# Post Training Stats"
   ],
   "metadata": {
    "collapsed": false,
    "pycharm": {
     "name": "#%% md\n"
    }
   }
  },
  {
   "cell_type": "code",
   "execution_count": 13,
   "outputs": [
    {
     "name": "stdout",
     "output_type": "stream",
     "text": [
      "Epoch 10 Validation:\n",
      "Down: Recall: 0.0\tPrecision: 0\tF1: 0\n",
      "Up: Recall: 1.0\tPrecision: 0.28125\tF1: 0.4390243887901306\n",
      "AVERAGE: Recall: 0.5\tPrecision: 0.140625\tF1: 0.2195121943950653\n",
      "\n",
      "\n",
      "Run on Test Data:\n",
      "    Down: Recall: 0.0\tPrecision: 0\tF1: 0\n",
      "    Up: Recall: 1.0\tPrecision: 0.4901960790157318\tF1: 0.6578947305679321\n",
      "    AVERAGE: Recall: 0.5\tPrecision: 0.2450980395078659\tF1: 0.32894736528396606\n"
     ]
    }
   ],
   "source": [
    "eval_summary(EPOCHS)\n",
    "print('\\n')\n",
    "eval_on_test_set(bag)"
   ],
   "metadata": {
    "collapsed": false,
    "pycharm": {
     "name": "#%%\n"
    }
   }
  },
  {
   "cell_type": "markdown",
   "source": [
    "# Write results to CSV"
   ],
   "metadata": {
    "collapsed": false,
    "pycharm": {
     "name": "#%% md\n"
    }
   }
  },
  {
   "cell_type": "code",
   "execution_count": 17,
   "outputs": [],
   "source": [
    "def run_on_data(model, data_iter):\n",
    "    model.eval()\n",
    "    predictions, all_labels= [], []\n",
    "    for (data, labels) in data_iter:\n",
    "        out = model(data)\n",
    "        predictions.append(out.unsqueeze(0))\n",
    "        all_labels.append(labels.unsqueeze(0))\n",
    "    pred = torch.cat(predictions, axis=1).squeeze()\n",
    "    pred_mean = pred.mean()\n",
    "    pred[pred > pred_mean] = 1.0\n",
    "    pred[pred < pred_mean] = 0.0\n",
    "    true = torch.cat(all_labels, axis=1).squeeze()\n",
    "    return pred, true\n"
   ],
   "metadata": {
    "collapsed": false,
    "pycharm": {
     "name": "#%%\n"
    }
   }
  },
  {
   "cell_type": "code",
   "execution_count": 18,
   "outputs": [],
   "source": [
    "train_pred, train_labels = run_on_data(model, train_iter)\n",
    "valid_pred, valid_labels = run_on_data(model, validation_iter)\n",
    "test_pred, test_labels = run_on_data(model, test_iter)"
   ],
   "metadata": {
    "collapsed": false,
    "pycharm": {
     "name": "#%%\n"
    }
   }
  },
  {
   "cell_type": "code",
   "execution_count": 19,
   "outputs": [],
   "source": [
    "import pandas as pd\n",
    "train_results = pd.DataFrame({\"Labels\": train_labels.to('cpu'), \"Predictions\": train_pred.to('cpu').detach().numpy()})\n",
    "#, \"Date\": #train_data['Date']})\n",
    "valid_results = pd.DataFrame({\"Labels\": valid_labels.to('cpu'), \"Predictions\": valid_pred.to('cpu').detach().numpy()})\n",
    "#, \"Date\": validation_data['Date']})\n",
    "test_results = pd.DataFrame({\"Labels\": test_labels.to('cpu'), \"Predictions\": test_pred.to('cpu').detach().numpy()})\n",
    "#, \"Date\": test_data['Date']})\n",
    "\n",
    "train_results.to_csv('../Results/train/BOW.csv', index=False)\n",
    "valid_results.to_csv('../Results/validation/BOW.csv', index=False)\n",
    "test_results.to_csv('../Results/test/BOW.csv', index=False)"
   ],
   "metadata": {
    "collapsed": false,
    "pycharm": {
     "name": "#%%\n"
    }
   }
  }
 ],
 "metadata": {
  "kernelspec": {
   "display_name": "Python 3",
   "language": "python",
   "name": "python3"
  },
  "language_info": {
   "codemirror_mode": {
    "name": "ipython",
    "version": 2
   },
   "file_extension": ".py",
   "mimetype": "text/x-python",
   "name": "python",
   "nbconvert_exporter": "python",
   "pygments_lexer": "ipython2",
   "version": "2.7.6"
  }
 },
 "nbformat": 4,
 "nbformat_minor": 0
}