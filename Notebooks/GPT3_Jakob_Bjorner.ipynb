{
 "cells": [
  {
   "cell_type": "markdown",
   "metadata": {},
   "source": [
    "# Analyzing stock data with GPT-3 the text-davinci-003 model\n",
    "\n",
    "This notebook follows the outline of Ben's notebook."
   ]
  },
  {
   "cell_type": "code",
   "execution_count": 2,
   "metadata": {},
   "outputs": [
    {
     "name": "stderr",
     "output_type": "stream",
     "text": [
      "c:\\Users\\jakob\\miniconda3\\envs\\state-space\\lib\\site-packages\\tqdm\\auto.py:22: TqdmWarning: IProgress not found. Please update jupyter and ipywidgets. See https://ipywidgets.readthedocs.io/en/stable/user_install.html\n",
      "  from .autonotebook import tqdm as notebook_tqdm\n"
     ]
    }
   ],
   "source": [
    "import numpy as np\n",
    "import pandas as pd\n",
    "from torch.utils.data import DataLoader, RandomSampler\n",
    "from dotenv import load_dotenv\n",
    "import openai\n",
    "import os\n",
    "openai.api_key = os.getenv(\"OPENAI_KEY\")\n",
    "load_dotenv()\n",
    "import tqdm\n",
    "import sys\n",
    "sys.path.append(\"..\")\n",
    "from GPT3_data_format import prepare_data"
   ]
  },
  {
   "cell_type": "code",
   "execution_count": 3,
   "metadata": {},
   "outputs": [
    {
     "name": "stdout",
     "output_type": "stream",
     "text": [
      "[*********************100%***********************]  1 of 1 completed\n"
     ]
    },
    {
     "name": "stderr",
     "output_type": "stream",
     "text": [
      "c:\\Users\\jakob\\Documents\\Headline-Trader\\Notebooks\\..\\data.py:162: FutureWarning: The frame.append method is deprecated and will be removed from pandas in a future version. Use pandas.concat instead.\n",
      "  ticker_data[i] = ticker_data[i].append(split_ticker_data[i])\n",
      "c:\\Users\\jakob\\Documents\\Headline-Trader\\Notebooks\\..\\data.py:162: FutureWarning: The frame.append method is deprecated and will be removed from pandas in a future version. Use pandas.concat instead.\n",
      "  ticker_data[i] = ticker_data[i].append(split_ticker_data[i])\n",
      "c:\\Users\\jakob\\Documents\\Headline-Trader\\Notebooks\\..\\data.py:162: FutureWarning: The frame.append method is deprecated and will be removed from pandas in a future version. Use pandas.concat instead.\n",
      "  ticker_data[i] = ticker_data[i].append(split_ticker_data[i])\n"
     ]
    },
    {
     "name": "stdout",
     "output_type": "stream",
     "text": [
      "[*********************100%***********************]  1 of 1 completed\n"
     ]
    },
    {
     "name": "stderr",
     "output_type": "stream",
     "text": [
      "c:\\Users\\jakob\\Documents\\Headline-Trader\\Notebooks\\..\\data.py:162: FutureWarning: The frame.append method is deprecated and will be removed from pandas in a future version. Use pandas.concat instead.\n",
      "  ticker_data[i] = ticker_data[i].append(split_ticker_data[i])\n",
      "c:\\Users\\jakob\\Documents\\Headline-Trader\\Notebooks\\..\\data.py:162: FutureWarning: In a future version, object-dtype columns with all-bool values will not be included in reductions with bool_only=True. Explicitly cast to bool dtype instead.\n",
      "  ticker_data[i] = ticker_data[i].append(split_ticker_data[i])\n",
      "c:\\Users\\jakob\\Documents\\Headline-Trader\\Notebooks\\..\\data.py:162: FutureWarning: The frame.append method is deprecated and will be removed from pandas in a future version. Use pandas.concat instead.\n",
      "  ticker_data[i] = ticker_data[i].append(split_ticker_data[i])\n",
      "c:\\Users\\jakob\\Documents\\Headline-Trader\\Notebooks\\..\\data.py:162: FutureWarning: In a future version, object-dtype columns with all-bool values will not be included in reductions with bool_only=True. Explicitly cast to bool dtype instead.\n",
      "  ticker_data[i] = ticker_data[i].append(split_ticker_data[i])\n",
      "c:\\Users\\jakob\\Documents\\Headline-Trader\\Notebooks\\..\\data.py:162: FutureWarning: The frame.append method is deprecated and will be removed from pandas in a future version. Use pandas.concat instead.\n",
      "  ticker_data[i] = ticker_data[i].append(split_ticker_data[i])\n",
      "c:\\Users\\jakob\\Documents\\Headline-Trader\\Notebooks\\..\\data.py:162: FutureWarning: In a future version, object-dtype columns with all-bool values will not be included in reductions with bool_only=True. Explicitly cast to bool dtype instead.\n",
      "  ticker_data[i] = ticker_data[i].append(split_ticker_data[i])\n"
     ]
    },
    {
     "name": "stdout",
     "output_type": "stream",
     "text": [
      "[*********************100%***********************]  1 of 1 completed\n"
     ]
    },
    {
     "name": "stderr",
     "output_type": "stream",
     "text": [
      "c:\\Users\\jakob\\Documents\\Headline-Trader\\Notebooks\\..\\data.py:162: FutureWarning: The frame.append method is deprecated and will be removed from pandas in a future version. Use pandas.concat instead.\n",
      "  ticker_data[i] = ticker_data[i].append(split_ticker_data[i])\n",
      "c:\\Users\\jakob\\Documents\\Headline-Trader\\Notebooks\\..\\data.py:162: FutureWarning: In a future version, object-dtype columns with all-bool values will not be included in reductions with bool_only=True. Explicitly cast to bool dtype instead.\n",
      "  ticker_data[i] = ticker_data[i].append(split_ticker_data[i])\n",
      "c:\\Users\\jakob\\Documents\\Headline-Trader\\Notebooks\\..\\data.py:162: FutureWarning: The frame.append method is deprecated and will be removed from pandas in a future version. Use pandas.concat instead.\n",
      "  ticker_data[i] = ticker_data[i].append(split_ticker_data[i])\n",
      "c:\\Users\\jakob\\Documents\\Headline-Trader\\Notebooks\\..\\data.py:162: FutureWarning: In a future version, object-dtype columns with all-bool values will not be included in reductions with bool_only=True. Explicitly cast to bool dtype instead.\n",
      "  ticker_data[i] = ticker_data[i].append(split_ticker_data[i])\n",
      "c:\\Users\\jakob\\Documents\\Headline-Trader\\Notebooks\\..\\data.py:162: FutureWarning: The frame.append method is deprecated and will be removed from pandas in a future version. Use pandas.concat instead.\n",
      "  ticker_data[i] = ticker_data[i].append(split_ticker_data[i])\n",
      "c:\\Users\\jakob\\Documents\\Headline-Trader\\Notebooks\\..\\data.py:162: FutureWarning: In a future version, object-dtype columns with all-bool values will not be included in reductions with bool_only=True. Explicitly cast to bool dtype instead.\n",
      "  ticker_data[i] = ticker_data[i].append(split_ticker_data[i])\n"
     ]
    },
    {
     "name": "stdout",
     "output_type": "stream",
     "text": [
      "[*********************100%***********************]  1 of 1 completed\n"
     ]
    },
    {
     "name": "stderr",
     "output_type": "stream",
     "text": [
      "c:\\Users\\jakob\\Documents\\Headline-Trader\\Notebooks\\..\\data.py:162: FutureWarning: The frame.append method is deprecated and will be removed from pandas in a future version. Use pandas.concat instead.\n",
      "  ticker_data[i] = ticker_data[i].append(split_ticker_data[i])\n",
      "c:\\Users\\jakob\\Documents\\Headline-Trader\\Notebooks\\..\\data.py:162: FutureWarning: In a future version, object-dtype columns with all-bool values will not be included in reductions with bool_only=True. Explicitly cast to bool dtype instead.\n",
      "  ticker_data[i] = ticker_data[i].append(split_ticker_data[i])\n",
      "c:\\Users\\jakob\\Documents\\Headline-Trader\\Notebooks\\..\\data.py:162: FutureWarning: The frame.append method is deprecated and will be removed from pandas in a future version. Use pandas.concat instead.\n",
      "  ticker_data[i] = ticker_data[i].append(split_ticker_data[i])\n",
      "c:\\Users\\jakob\\Documents\\Headline-Trader\\Notebooks\\..\\data.py:162: FutureWarning: In a future version, object-dtype columns with all-bool values will not be included in reductions with bool_only=True. Explicitly cast to bool dtype instead.\n",
      "  ticker_data[i] = ticker_data[i].append(split_ticker_data[i])\n",
      "c:\\Users\\jakob\\Documents\\Headline-Trader\\Notebooks\\..\\data.py:162: FutureWarning: The frame.append method is deprecated and will be removed from pandas in a future version. Use pandas.concat instead.\n",
      "  ticker_data[i] = ticker_data[i].append(split_ticker_data[i])\n",
      "c:\\Users\\jakob\\Documents\\Headline-Trader\\Notebooks\\..\\data.py:162: FutureWarning: In a future version, object-dtype columns with all-bool values will not be included in reductions with bool_only=True. Explicitly cast to bool dtype instead.\n",
      "  ticker_data[i] = ticker_data[i].append(split_ticker_data[i])\n"
     ]
    },
    {
     "name": "stdout",
     "output_type": "stream",
     "text": [
      "[*********************100%***********************]  1 of 1 completed\n"
     ]
    },
    {
     "name": "stderr",
     "output_type": "stream",
     "text": [
      "c:\\Users\\jakob\\Documents\\Headline-Trader\\Notebooks\\..\\data.py:162: FutureWarning: The frame.append method is deprecated and will be removed from pandas in a future version. Use pandas.concat instead.\n",
      "  ticker_data[i] = ticker_data[i].append(split_ticker_data[i])\n",
      "c:\\Users\\jakob\\Documents\\Headline-Trader\\Notebooks\\..\\data.py:162: FutureWarning: In a future version, object-dtype columns with all-bool values will not be included in reductions with bool_only=True. Explicitly cast to bool dtype instead.\n",
      "  ticker_data[i] = ticker_data[i].append(split_ticker_data[i])\n",
      "c:\\Users\\jakob\\Documents\\Headline-Trader\\Notebooks\\..\\data.py:162: FutureWarning: The frame.append method is deprecated and will be removed from pandas in a future version. Use pandas.concat instead.\n",
      "  ticker_data[i] = ticker_data[i].append(split_ticker_data[i])\n",
      "c:\\Users\\jakob\\Documents\\Headline-Trader\\Notebooks\\..\\data.py:162: FutureWarning: In a future version, object-dtype columns with all-bool values will not be included in reductions with bool_only=True. Explicitly cast to bool dtype instead.\n",
      "  ticker_data[i] = ticker_data[i].append(split_ticker_data[i])\n",
      "c:\\Users\\jakob\\Documents\\Headline-Trader\\Notebooks\\..\\data.py:162: FutureWarning: The frame.append method is deprecated and will be removed from pandas in a future version. Use pandas.concat instead.\n",
      "  ticker_data[i] = ticker_data[i].append(split_ticker_data[i])\n",
      "c:\\Users\\jakob\\Documents\\Headline-Trader\\Notebooks\\..\\data.py:162: FutureWarning: In a future version, object-dtype columns with all-bool values will not be included in reductions with bool_only=True. Explicitly cast to bool dtype instead.\n",
      "  ticker_data[i] = ticker_data[i].append(split_ticker_data[i])\n"
     ]
    },
    {
     "name": "stdout",
     "output_type": "stream",
     "text": [
      "[*********************100%***********************]  1 of 1 completed\n"
     ]
    },
    {
     "name": "stderr",
     "output_type": "stream",
     "text": [
      "c:\\Users\\jakob\\Documents\\Headline-Trader\\Notebooks\\..\\data.py:162: FutureWarning: The frame.append method is deprecated and will be removed from pandas in a future version. Use pandas.concat instead.\n",
      "  ticker_data[i] = ticker_data[i].append(split_ticker_data[i])\n",
      "c:\\Users\\jakob\\Documents\\Headline-Trader\\Notebooks\\..\\data.py:162: FutureWarning: In a future version, object-dtype columns with all-bool values will not be included in reductions with bool_only=True. Explicitly cast to bool dtype instead.\n",
      "  ticker_data[i] = ticker_data[i].append(split_ticker_data[i])\n",
      "c:\\Users\\jakob\\Documents\\Headline-Trader\\Notebooks\\..\\data.py:162: FutureWarning: The frame.append method is deprecated and will be removed from pandas in a future version. Use pandas.concat instead.\n",
      "  ticker_data[i] = ticker_data[i].append(split_ticker_data[i])\n",
      "c:\\Users\\jakob\\Documents\\Headline-Trader\\Notebooks\\..\\data.py:162: FutureWarning: In a future version, object-dtype columns with all-bool values will not be included in reductions with bool_only=True. Explicitly cast to bool dtype instead.\n",
      "  ticker_data[i] = ticker_data[i].append(split_ticker_data[i])\n",
      "c:\\Users\\jakob\\Documents\\Headline-Trader\\Notebooks\\..\\data.py:162: FutureWarning: The frame.append method is deprecated and will be removed from pandas in a future version. Use pandas.concat instead.\n",
      "  ticker_data[i] = ticker_data[i].append(split_ticker_data[i])\n",
      "c:\\Users\\jakob\\Documents\\Headline-Trader\\Notebooks\\..\\data.py:162: FutureWarning: In a future version, object-dtype columns with all-bool values will not be included in reductions with bool_only=True. Explicitly cast to bool dtype instead.\n",
      "  ticker_data[i] = ticker_data[i].append(split_ticker_data[i])\n"
     ]
    }
   ],
   "source": [
    "prepared = prepare_data()\n",
    "title_data = prepared['title_data']\n",
    "train_data = prepared['train']\n",
    "validation_data = prepared['validation']\n",
    "test_data = prepared['test']"
   ]
  },
  {
   "cell_type": "code",
   "execution_count": 4,
   "metadata": {},
   "outputs": [],
   "source": [
    "# add the title data into the data splits\n",
    "append_titles = lambda data: [(title_data[idx], label) for idx, label in data]\n",
    "train_data_with_titles = append_titles(train_data)\n",
    "validation_data_with_titles = append_titles(validation_data)\n",
    "test_data_with_titles = append_titles(test_data)\n"
   ]
  },
  {
   "cell_type": "code",
   "execution_count": 5,
   "metadata": {},
   "outputs": [],
   "source": [
    "# must divide splits into 6 portions corresponding to the 6 stocks\n",
    "stocks = [\"SPY\", \"^DJI\", \"NDAQ\", \"AAPL\", \"GOOG\", \"META\"]\n",
    "split_data = lambda data: {stock: stock_data for stock, stock_data in zip(stocks, np.array_split(data, 6))}\n",
    "train_iter = split_data(train_data_with_titles)\n",
    "validation_iter = split_data(validation_data_with_titles)\n",
    "test_iter = split_data(test_data_with_titles)"
   ]
  },
  {
   "cell_type": "code",
   "execution_count": 6,
   "metadata": {},
   "outputs": [
    {
     "name": "stdout",
     "output_type": "stream",
     "text": [
      "bob odenkirk would like to be more like bob saget oil tumbles below dollars OZZ a barrel ukrainian president zelensky will give virtual address to members of congress ethiopia pledges action after vid , 0\n",
      "132\n"
     ]
    }
   ],
   "source": [
    "print(train_iter[\"SPY\"][0][0][:200],\",\", train_iter[\"SPY\"][0][1])\n",
    "print(len(train_iter[\"SPY\"]))"
   ]
  },
  {
   "cell_type": "markdown",
   "metadata": {},
   "source": [
    "# outline:\n",
    "use the training data randomly as few shot examples for evaluating the performance of the model.\n"
   ]
  },
  {
   "cell_type": "code",
   "execution_count": 7,
   "metadata": {},
   "outputs": [],
   "source": [
    "def format_data(data):\n",
    "    label = \"bullish\" if data[1] else \"bearish\"\n",
    "    return f\"Title: {data[0][:200]}\\nLabel: {label}\"\n",
    "def get_few_examples(stock_ticker, n=3):\n",
    "    few_examples = []\n",
    "    train_set = train_iter[stock_ticker]\n",
    "    train_set_size = len(train_set)\n",
    "    random_samples = np.random.permutation(train_set_size)[:n]\n",
    "    for i in random_samples:\n",
    "        few_examples.append(format_data(train_set[i]))\n",
    "    return few_examples"
   ]
  },
  {
   "cell_type": "code",
   "execution_count": 8,
   "metadata": {},
   "outputs": [],
   "source": [
    "def model(sample, stock_ticker):\n",
    "    \"\"\"\n",
    "    given a sample, classify based on the stock index being used\n",
    "    \"\"\"\n",
    "    few_examples = '\\n'.join(get_few_examples(stock_ticker, n=3))\n",
    "    \n",
    "    prompt = \\\n",
    "        \"Given the following headline data, say whether \"\\\n",
    "        \"the asset corresponding to the ticker symbol \"\\\n",
    "        f\"{stock_ticker} went up or down after one week of \"\\\n",
    "        \"their release. (bearish or bullish)\\n\" \\\n",
    "        f\"{few_examples}\\n\" \\\n",
    "        f\"Title: {sample}\\n\" \\\n",
    "        \"Label:\"\n",
    "    # print(prompt)\n",
    "    # return\n",
    "    response = openai.Completion.create(\n",
    "        engine=\"text-davinci-003\",\n",
    "        prompt=prompt,\n",
    "        temperature=0.0,\n",
    "        max_tokens=4,\n",
    "        top_p=1,\n",
    "        frequency_penalty=0,\n",
    "        presence_penalty=0,\n",
    "        stop=[\"\\n\"]\n",
    "    )\n",
    "    label = response[\"choices\"][0][\"text\"].strip().lower()\n",
    "    if label in [\"bearish\", \"bullish\"]:\n",
    "        return 0 if label == \"bearish\" else 1\n",
    "    else:\n",
    "        print(\"error in interpreting the following label:\", label, \"\\ncontext:\", sample)\n",
    "        return 0\n",
    "    \n"
   ]
  },
  {
   "cell_type": "code",
   "execution_count": 9,
   "metadata": {},
   "outputs": [
    {
     "data": {
      "text/plain": [
       "1"
      ]
     },
     "execution_count": 9,
     "metadata": {},
     "output_type": "execute_result"
    }
   ],
   "source": [
    "model(\"This SPY stock is promising, but others say the following... S&P looking to rise the following weeks.\", \"SPY\")\n"
   ]
  },
  {
   "cell_type": "code",
   "execution_count": 10,
   "metadata": {},
   "outputs": [],
   "source": [
    "def eval_model(model, data_iter, stock_ticker):\n",
    "    labels = []\n",
    "    predictions = []\n",
    "    for titles, label in data_iter:\n",
    "        pred = model(titles[:400], stock_ticker)\n",
    "        labels.append(int(label))\n",
    "        predictions.append(pred)\n",
    "    return labels, predictions\n"
   ]
  },
  {
   "cell_type": "code",
   "execution_count": 11,
   "metadata": {},
   "outputs": [
    {
     "data": {
      "text/plain": [
       "17"
      ]
     },
     "execution_count": 11,
     "metadata": {},
     "output_type": "execute_result"
    }
   ],
   "source": [
    "len(test_iter[\"SPY\"])"
   ]
  },
  {
   "cell_type": "code",
   "execution_count": 18,
   "metadata": {},
   "outputs": [
    {
     "name": "stdout",
     "output_type": "stream",
     "text": [
      "..\\Results\\validation\\GPT3.csv\n",
      "SPY\n",
      "error in interpreting the following label: neutral \n",
      "context: planned parenthood criticized for cartoon on youtube promoting puberty blockers to children syrian money launderer sentenced to O O O years by danish court after smuggling nearly dollars OZ million into sweden protests hit iran’s oil and petrochemical sectors amid widespread anti regime actions uae president to meet putin in russia, a week after opec+ deep output cuts bank of england intervenes in\n",
      "^DJI\n",
      "NDAQ\n",
      "AAPL\n",
      "GOOG\n",
      "META\n",
      "0.6666666666666666\n"
     ]
    }
   ],
   "source": [
    "paths = [os.path.join(\"..\", 'Results', x) for x in ['validation']] # 'test' , 'train'\n",
    "for path in paths:\n",
    "    if \"train\" in path:\n",
    "        data_iter = train_iter\n",
    "    elif \"validation\" in path:\n",
    "        data_iter = validation_iter\n",
    "    else:\n",
    "        data_iter = test_iter\n",
    "    save_path = os.path.join(path, 'GPT3.csv')\n",
    "    print(save_path)\n",
    "    df = pd.DataFrame(columns=[\"Labels\", \"Predictions\"])\n",
    "    for stock in [\"SPY\", \"^DJI\", \"NDAQ\", \"AAPL\", \"GOOG\", \"META\"]:\n",
    "        print(stock)\n",
    "        labels, predictions = eval_model(model, data_iter[stock], stock)\n",
    "        df = pd.concat([df, pd.DataFrame({\"Labels\": labels, \"Predictions\": predictions})])\n",
    "    acc = (df[\"Labels\"] == df[\"Predictions\"]).sum() / len(df)\n",
    "    print(acc)\n",
    "    df.to_csv(save_path, index=False)\n"
   ]
  },
  {
   "cell_type": "code",
   "execution_count": 17,
   "metadata": {},
   "outputs": [
    {
     "data": {
      "text/plain": [
       "792"
      ]
     },
     "execution_count": 17,
     "metadata": {},
     "output_type": "execute_result"
    }
   ],
   "source": [
    "len(df)"
   ]
  },
  {
   "cell_type": "code",
   "execution_count": 70,
   "metadata": {},
   "outputs": [
    {
     "data": {
      "text/plain": [
       "0.4117647058823529"
      ]
     },
     "execution_count": 70,
     "metadata": {},
     "output_type": "execute_result"
    }
   ],
   "source": [
    "# labels, predictions\n",
    "acc = np.mean(np.array(labels) == np.array(predictions))\n",
    "acc"
   ]
  },
  {
   "cell_type": "code",
   "execution_count": null,
   "metadata": {},
   "outputs": [],
   "source": []
  }
 ],
 "metadata": {
  "kernelspec": {
   "display_name": "Python 3.10.6 ('state-space')",
   "language": "python",
   "name": "python3"
  },
  "language_info": {
   "codemirror_mode": {
    "name": "ipython",
    "version": 3
   },
   "file_extension": ".py",
   "mimetype": "text/x-python",
   "name": "python",
   "nbconvert_exporter": "python",
   "pygments_lexer": "ipython3",
   "version": "3.10.8"
  },
  "orig_nbformat": 4,
  "vscode": {
   "interpreter": {
    "hash": "8313e864fa87587a257c6a13db96ed152cb1bb7e177e736a7a2d4b018b29005a"
   }
  }
 },
 "nbformat": 4,
 "nbformat_minor": 2
}
