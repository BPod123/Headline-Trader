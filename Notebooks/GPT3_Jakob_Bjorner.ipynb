{
 "cells": [
  {
   "cell_type": "markdown",
   "metadata": {},
   "source": [
    "# Analyzing stock data with GPT-3 the text-davinci-003 model\n",
    "\n",
    "This notebook follows the outline of Ben's notebook."
   ]
  },
  {
   "cell_type": "code",
   "execution_count": 35,
   "metadata": {},
   "outputs": [],
   "source": [
    "import numpy as np\n",
    "import pandas as pd\n",
    "from torch.utils.data import DataLoader, RandomSampler\n",
    "from dotenv import load_dotenv\n",
    "import openai\n",
    "import os\n",
    "openai.api_key = os.getenv(\"OPENAI_KEY\")\n",
    "load_dotenv()\n",
    "import tqdm\n",
    "import sys\n",
    "sys.path.append(\"..\")\n",
    "from GPT3_data_format import prepare_data"
   ]
  },
  {
   "cell_type": "code",
   "execution_count": 20,
   "metadata": {},
   "outputs": [
    {
     "name": "stdout",
     "output_type": "stream",
     "text": [
      "[*********************100%***********************]  1 of 1 completed\n"
     ]
    },
    {
     "name": "stderr",
     "output_type": "stream",
     "text": [
      "c:\\Users\\jakob\\Documents\\Headline-Trader\\Notebooks\\..\\data.py:162: FutureWarning: The frame.append method is deprecated and will be removed from pandas in a future version. Use pandas.concat instead.\n",
      "  ticker_data[i] = ticker_data[i].append(split_ticker_data[i])\n",
      "c:\\Users\\jakob\\Documents\\Headline-Trader\\Notebooks\\..\\data.py:162: FutureWarning: The frame.append method is deprecated and will be removed from pandas in a future version. Use pandas.concat instead.\n",
      "  ticker_data[i] = ticker_data[i].append(split_ticker_data[i])\n",
      "c:\\Users\\jakob\\Documents\\Headline-Trader\\Notebooks\\..\\data.py:162: FutureWarning: The frame.append method is deprecated and will be removed from pandas in a future version. Use pandas.concat instead.\n",
      "  ticker_data[i] = ticker_data[i].append(split_ticker_data[i])\n"
     ]
    },
    {
     "name": "stdout",
     "output_type": "stream",
     "text": [
      "[*********************100%***********************]  1 of 1 completed\n"
     ]
    },
    {
     "name": "stderr",
     "output_type": "stream",
     "text": [
      "c:\\Users\\jakob\\Documents\\Headline-Trader\\Notebooks\\..\\data.py:162: FutureWarning: The frame.append method is deprecated and will be removed from pandas in a future version. Use pandas.concat instead.\n",
      "  ticker_data[i] = ticker_data[i].append(split_ticker_data[i])\n",
      "c:\\Users\\jakob\\Documents\\Headline-Trader\\Notebooks\\..\\data.py:162: FutureWarning: In a future version, object-dtype columns with all-bool values will not be included in reductions with bool_only=True. Explicitly cast to bool dtype instead.\n",
      "  ticker_data[i] = ticker_data[i].append(split_ticker_data[i])\n",
      "c:\\Users\\jakob\\Documents\\Headline-Trader\\Notebooks\\..\\data.py:162: FutureWarning: The frame.append method is deprecated and will be removed from pandas in a future version. Use pandas.concat instead.\n",
      "  ticker_data[i] = ticker_data[i].append(split_ticker_data[i])\n",
      "c:\\Users\\jakob\\Documents\\Headline-Trader\\Notebooks\\..\\data.py:162: FutureWarning: In a future version, object-dtype columns with all-bool values will not be included in reductions with bool_only=True. Explicitly cast to bool dtype instead.\n",
      "  ticker_data[i] = ticker_data[i].append(split_ticker_data[i])\n",
      "c:\\Users\\jakob\\Documents\\Headline-Trader\\Notebooks\\..\\data.py:162: FutureWarning: The frame.append method is deprecated and will be removed from pandas in a future version. Use pandas.concat instead.\n",
      "  ticker_data[i] = ticker_data[i].append(split_ticker_data[i])\n",
      "c:\\Users\\jakob\\Documents\\Headline-Trader\\Notebooks\\..\\data.py:162: FutureWarning: In a future version, object-dtype columns with all-bool values will not be included in reductions with bool_only=True. Explicitly cast to bool dtype instead.\n",
      "  ticker_data[i] = ticker_data[i].append(split_ticker_data[i])\n"
     ]
    },
    {
     "name": "stdout",
     "output_type": "stream",
     "text": [
      "[*********************100%***********************]  1 of 1 completed\n"
     ]
    },
    {
     "name": "stderr",
     "output_type": "stream",
     "text": [
      "c:\\Users\\jakob\\Documents\\Headline-Trader\\Notebooks\\..\\data.py:162: FutureWarning: The frame.append method is deprecated and will be removed from pandas in a future version. Use pandas.concat instead.\n",
      "  ticker_data[i] = ticker_data[i].append(split_ticker_data[i])\n",
      "c:\\Users\\jakob\\Documents\\Headline-Trader\\Notebooks\\..\\data.py:162: FutureWarning: In a future version, object-dtype columns with all-bool values will not be included in reductions with bool_only=True. Explicitly cast to bool dtype instead.\n",
      "  ticker_data[i] = ticker_data[i].append(split_ticker_data[i])\n",
      "c:\\Users\\jakob\\Documents\\Headline-Trader\\Notebooks\\..\\data.py:162: FutureWarning: The frame.append method is deprecated and will be removed from pandas in a future version. Use pandas.concat instead.\n",
      "  ticker_data[i] = ticker_data[i].append(split_ticker_data[i])\n",
      "c:\\Users\\jakob\\Documents\\Headline-Trader\\Notebooks\\..\\data.py:162: FutureWarning: In a future version, object-dtype columns with all-bool values will not be included in reductions with bool_only=True. Explicitly cast to bool dtype instead.\n",
      "  ticker_data[i] = ticker_data[i].append(split_ticker_data[i])\n",
      "c:\\Users\\jakob\\Documents\\Headline-Trader\\Notebooks\\..\\data.py:162: FutureWarning: The frame.append method is deprecated and will be removed from pandas in a future version. Use pandas.concat instead.\n",
      "  ticker_data[i] = ticker_data[i].append(split_ticker_data[i])\n",
      "c:\\Users\\jakob\\Documents\\Headline-Trader\\Notebooks\\..\\data.py:162: FutureWarning: In a future version, object-dtype columns with all-bool values will not be included in reductions with bool_only=True. Explicitly cast to bool dtype instead.\n",
      "  ticker_data[i] = ticker_data[i].append(split_ticker_data[i])\n"
     ]
    },
    {
     "name": "stdout",
     "output_type": "stream",
     "text": [
      "[*********************100%***********************]  1 of 1 completed\n"
     ]
    },
    {
     "name": "stderr",
     "output_type": "stream",
     "text": [
      "c:\\Users\\jakob\\Documents\\Headline-Trader\\Notebooks\\..\\data.py:162: FutureWarning: The frame.append method is deprecated and will be removed from pandas in a future version. Use pandas.concat instead.\n",
      "  ticker_data[i] = ticker_data[i].append(split_ticker_data[i])\n",
      "c:\\Users\\jakob\\Documents\\Headline-Trader\\Notebooks\\..\\data.py:162: FutureWarning: In a future version, object-dtype columns with all-bool values will not be included in reductions with bool_only=True. Explicitly cast to bool dtype instead.\n",
      "  ticker_data[i] = ticker_data[i].append(split_ticker_data[i])\n",
      "c:\\Users\\jakob\\Documents\\Headline-Trader\\Notebooks\\..\\data.py:162: FutureWarning: The frame.append method is deprecated and will be removed from pandas in a future version. Use pandas.concat instead.\n",
      "  ticker_data[i] = ticker_data[i].append(split_ticker_data[i])\n",
      "c:\\Users\\jakob\\Documents\\Headline-Trader\\Notebooks\\..\\data.py:162: FutureWarning: In a future version, object-dtype columns with all-bool values will not be included in reductions with bool_only=True. Explicitly cast to bool dtype instead.\n",
      "  ticker_data[i] = ticker_data[i].append(split_ticker_data[i])\n",
      "c:\\Users\\jakob\\Documents\\Headline-Trader\\Notebooks\\..\\data.py:162: FutureWarning: The frame.append method is deprecated and will be removed from pandas in a future version. Use pandas.concat instead.\n",
      "  ticker_data[i] = ticker_data[i].append(split_ticker_data[i])\n",
      "c:\\Users\\jakob\\Documents\\Headline-Trader\\Notebooks\\..\\data.py:162: FutureWarning: In a future version, object-dtype columns with all-bool values will not be included in reductions with bool_only=True. Explicitly cast to bool dtype instead.\n",
      "  ticker_data[i] = ticker_data[i].append(split_ticker_data[i])\n"
     ]
    },
    {
     "name": "stdout",
     "output_type": "stream",
     "text": [
      "[*********************100%***********************]  1 of 1 completed\n"
     ]
    },
    {
     "name": "stderr",
     "output_type": "stream",
     "text": [
      "c:\\Users\\jakob\\Documents\\Headline-Trader\\Notebooks\\..\\data.py:162: FutureWarning: The frame.append method is deprecated and will be removed from pandas in a future version. Use pandas.concat instead.\n",
      "  ticker_data[i] = ticker_data[i].append(split_ticker_data[i])\n",
      "c:\\Users\\jakob\\Documents\\Headline-Trader\\Notebooks\\..\\data.py:162: FutureWarning: In a future version, object-dtype columns with all-bool values will not be included in reductions with bool_only=True. Explicitly cast to bool dtype instead.\n",
      "  ticker_data[i] = ticker_data[i].append(split_ticker_data[i])\n",
      "c:\\Users\\jakob\\Documents\\Headline-Trader\\Notebooks\\..\\data.py:162: FutureWarning: The frame.append method is deprecated and will be removed from pandas in a future version. Use pandas.concat instead.\n",
      "  ticker_data[i] = ticker_data[i].append(split_ticker_data[i])\n",
      "c:\\Users\\jakob\\Documents\\Headline-Trader\\Notebooks\\..\\data.py:162: FutureWarning: In a future version, object-dtype columns with all-bool values will not be included in reductions with bool_only=True. Explicitly cast to bool dtype instead.\n",
      "  ticker_data[i] = ticker_data[i].append(split_ticker_data[i])\n",
      "c:\\Users\\jakob\\Documents\\Headline-Trader\\Notebooks\\..\\data.py:162: FutureWarning: The frame.append method is deprecated and will be removed from pandas in a future version. Use pandas.concat instead.\n",
      "  ticker_data[i] = ticker_data[i].append(split_ticker_data[i])\n",
      "c:\\Users\\jakob\\Documents\\Headline-Trader\\Notebooks\\..\\data.py:162: FutureWarning: In a future version, object-dtype columns with all-bool values will not be included in reductions with bool_only=True. Explicitly cast to bool dtype instead.\n",
      "  ticker_data[i] = ticker_data[i].append(split_ticker_data[i])\n"
     ]
    },
    {
     "name": "stdout",
     "output_type": "stream",
     "text": [
      "[*********************100%***********************]  1 of 1 completed\n"
     ]
    },
    {
     "name": "stderr",
     "output_type": "stream",
     "text": [
      "c:\\Users\\jakob\\Documents\\Headline-Trader\\Notebooks\\..\\data.py:162: FutureWarning: The frame.append method is deprecated and will be removed from pandas in a future version. Use pandas.concat instead.\n",
      "  ticker_data[i] = ticker_data[i].append(split_ticker_data[i])\n",
      "c:\\Users\\jakob\\Documents\\Headline-Trader\\Notebooks\\..\\data.py:162: FutureWarning: In a future version, object-dtype columns with all-bool values will not be included in reductions with bool_only=True. Explicitly cast to bool dtype instead.\n",
      "  ticker_data[i] = ticker_data[i].append(split_ticker_data[i])\n",
      "c:\\Users\\jakob\\Documents\\Headline-Trader\\Notebooks\\..\\data.py:162: FutureWarning: The frame.append method is deprecated and will be removed from pandas in a future version. Use pandas.concat instead.\n",
      "  ticker_data[i] = ticker_data[i].append(split_ticker_data[i])\n",
      "c:\\Users\\jakob\\Documents\\Headline-Trader\\Notebooks\\..\\data.py:162: FutureWarning: In a future version, object-dtype columns with all-bool values will not be included in reductions with bool_only=True. Explicitly cast to bool dtype instead.\n",
      "  ticker_data[i] = ticker_data[i].append(split_ticker_data[i])\n",
      "c:\\Users\\jakob\\Documents\\Headline-Trader\\Notebooks\\..\\data.py:162: FutureWarning: The frame.append method is deprecated and will be removed from pandas in a future version. Use pandas.concat instead.\n",
      "  ticker_data[i] = ticker_data[i].append(split_ticker_data[i])\n",
      "c:\\Users\\jakob\\Documents\\Headline-Trader\\Notebooks\\..\\data.py:162: FutureWarning: In a future version, object-dtype columns with all-bool values will not be included in reductions with bool_only=True. Explicitly cast to bool dtype instead.\n",
      "  ticker_data[i] = ticker_data[i].append(split_ticker_data[i])\n"
     ]
    }
   ],
   "source": [
    "prepared = prepare_data()\n",
    "title_data = prepared['title_data']\n",
    "train_data = prepared['train']\n",
    "validation_data = prepared['validation']\n",
    "test_data = prepared['test']"
   ]
  },
  {
   "cell_type": "code",
   "execution_count": 21,
   "metadata": {},
   "outputs": [],
   "source": [
    "# add the title data into the data splits\n",
    "append_titles = lambda data: [(title_data[idx], label) for idx, label in data]\n",
    "train_data_with_titles = append_titles(train_data)\n",
    "validation_data_with_titles = append_titles(validation_data)\n",
    "test_data_with_titles = append_titles(test_data)\n"
   ]
  },
  {
   "cell_type": "code",
   "execution_count": 42,
   "metadata": {},
   "outputs": [],
   "source": [
    "# must divide splits into 6 portions corresponding to the 6 stocks\n",
    "stocks = [\"SPY\", \"^DJI\", \"NDAQ\", \"AAPL\", \"GOOG\", \"META\"]\n",
    "split_data = lambda data: {stock: stock_data for stock, stock_data in zip(stocks, np.array_split(data, 6))}\n",
    "train_iter = split_data(train_data_with_titles)\n",
    "validation_iter = split_data(validation_data_with_titles)\n",
    "test_iter = split_data(test_data_with_titles)"
   ]
  },
  {
   "cell_type": "code",
   "execution_count": 36,
   "metadata": {},
   "outputs": [
    {
     "name": "stdout",
     "output_type": "stream",
     "text": [
      "bob odenkirk would like to be more like bob saget oil tumbles below dollars OZZ a barrel ukrainian president zelensky will give virtual address to members of congress ethiopia pledges action after vid , 0\n",
      "132\n"
     ]
    }
   ],
   "source": [
    "print(train_iter[\"SPY\"][0][0][:200],\",\", train_iter[\"SPY\"][0][1])\n",
    "print(len(train_iter[\"SPY\"]))"
   ]
  },
  {
   "cell_type": "markdown",
   "metadata": {},
   "source": [
    "# outline:\n",
    "use the training data randomly as few shot examples for evaluating the performance of the model.\n"
   ]
  },
  {
   "cell_type": "code",
   "execution_count": 37,
   "metadata": {},
   "outputs": [],
   "source": [
    "def format_data(data):\n",
    "    return f\"Title: {data[0][:200]}\\nLabel: {data[1]}\"\n",
    "def get_few_examples(stock_ticker, n=3):\n",
    "    few_examples = []\n",
    "    train_set = train_iter[stock_ticker]\n",
    "    train_set_size = len(train_set)\n",
    "    random_samples = np.random.permutation(train_set_size)[:n]\n",
    "    for i in random_samples:\n",
    "        few_examples.append(format_data(train_set[i]))\n",
    "    return few_examples"
   ]
  },
  {
   "cell_type": "code",
   "execution_count": 65,
   "metadata": {},
   "outputs": [],
   "source": [
    "def model(sample, stock_ticker):\n",
    "    \"\"\"\n",
    "    given a sample, classify based on the stock index being used\n",
    "    \"\"\"\n",
    "    few_examples = '\\n'.join(get_few_examples(stock_ticker, n=3))\n",
    "    \n",
    "    prompt = \\\n",
    "        \"Given the following headline data, say whether \"\\\n",
    "        \"the asset corresponding to the ticker symbol \"\\\n",
    "        f\"{stock_ticker} went up or down after one week of \"\\\n",
    "        \"their release. (1 is up, 0 is down)\\n\" \\\n",
    "        f\"{few_examples}\\n\" \\\n",
    "        f\"Title: {sample}\\n\" \\\n",
    "        \"Label:\"\n",
    "\n",
    "    response = openai.Completion.create(\n",
    "        engine=\"text-curie-001\",\n",
    "        prompt=prompt,\n",
    "        temperature=0.3,\n",
    "        max_tokens=4,\n",
    "        top_p=1,\n",
    "        frequency_penalty=0,\n",
    "        presence_penalty=0,\n",
    "        stop=[\"\\n\"]\n",
    "    )\n",
    "    label = response[\"choices\"][0][\"text\"].strip()\n",
    "    if label in [\"0\", \"1\"]:\n",
    "        return int(label)\n",
    "    else:\n",
    "        print(\"error in interpreting the following label:\", label, \"\\ncontext:\", sample)\n",
    "        return 0\n",
    "    \n",
    "    \n",
    "\n",
    "\n",
    "    \n"
   ]
  },
  {
   "cell_type": "code",
   "execution_count": 66,
   "metadata": {},
   "outputs": [
    {
     "data": {
      "text/plain": [
       "0"
      ]
     },
     "execution_count": 66,
     "metadata": {},
     "output_type": "execute_result"
    }
   ],
   "source": [
    "model(\"\", \"SPY\")\n"
   ]
  },
  {
   "cell_type": "code",
   "execution_count": 67,
   "metadata": {},
   "outputs": [],
   "source": [
    "def eval_model(model, data_iter, stock_ticker):\n",
    "    labels = []\n",
    "    predictions = []\n",
    "    for titles, label in data_iter:\n",
    "        pred = model(titles[:200], stock_ticker)\n",
    "        labels.append(int(label))\n",
    "        predictions.append(pred)\n",
    "    return labels, predictions\n"
   ]
  },
  {
   "cell_type": "code",
   "execution_count": 68,
   "metadata": {},
   "outputs": [
    {
     "data": {
      "text/plain": [
       "17"
      ]
     },
     "execution_count": 68,
     "metadata": {},
     "output_type": "execute_result"
    }
   ],
   "source": [
    "len(test_iter[\"SPY\"])"
   ]
  },
  {
   "cell_type": "code",
   "execution_count": 83,
   "metadata": {},
   "outputs": [
    {
     "name": "stdout",
     "output_type": "stream",
     "text": [
      "..\\Results\\test\\GPT3.csv\n",
      "SPY\n",
      "^DJI\n",
      "NDAQ\n",
      "AAPL\n",
      "GOOG\n",
      "error in interpreting the following label:  \n",
      "context: draftkings loss narrows to dollars OZZ OZZ OZZ OZZ OZ OZ OZ OZ OZ million, stock falls after earnings powerball jackpot up to dollars billion, new lottery record alert: powerball jackpot climbs to dol\n",
      "META\n",
      "0.5098039215686274\n",
      "..\\Results\\train\\GPT3.csv\n",
      "SPY\n",
      "error in interpreting the following label:  \n",
      "context: security tightened for supreme court justices as protests extend to alito home stock futures are little changed ahead of key inflation reading tesla production lags in shanghai due to parts shortages,\n",
      "error in interpreting the following label:  \n",
      "context: 'hannity' on texas district flipping red, biden economy white house says china has not yet ‘crossed lines’ on russia as beijing offers closer ties yellowstone flood: photos show damage as surrounding \n",
      "error in interpreting the following label:  \n",
      "context: stock futures dip as rates jump on a strong jobs report diamondbacks vs. rockies prediction: zac gallen gives arizona the edge a mental health checklist for college students the glaring contradiction \n",
      "error in interpreting the following label:  \n",
      "context: ivana trump, ex wife of former president trump, dies at OZ OZ OZ OZ OZ OZ OZ O O O what fallout could look like for officers involved in the uvalde massacre response family outraged at southwest claim\n",
      "error in interpreting the following label:  \n",
      "context: email shows early tension between trump and national archives raphael warnock voted for covid stimulus that sent dollars OZ OZ OZ OZ OZ OZ OZ O O O O O k to group run by his church trump vindicated as\n",
      "^DJI\n",
      "error in interpreting the following label:  \n",
      "context: tesla cheapest model O O O now costs dollars OZ OZ OZ OZ O O O O O O OZZ OZZ OZZ OZZ OZZ OZZ OZZ OZZ OZZ OZ OZ OZ OZ OZ OZ OZ OZ OZ fed has aggressive rate hiking plan, but it could burn the economy a\n",
      "error in interpreting the following label:  \n",
      "context: norwegian cruises will drop its requirement for negative coronavirus tests in most countries, but not in the u.s. stock futures slip following third straight day of gains for s&p OZZ OZZ OZZ OZZ OZZ t\n",
      "error in interpreting the following label:  \n",
      "context: stock futures dip as rates jump on a strong jobs report diamondbacks vs. rockies prediction: zac gallen gives arizona the edge a mental health checklist for college students the glaring contradiction \n",
      "error in interpreting the following label:  \n",
      "context: peloton says it slashing OZZ OZZ OZZ OZZ OZZ OZZ OZZ OZ OZ OZ OZ OZ OZ OZ OZ jobs, closing stores and hiking prices samsung exec explains why the company folding phones are so important to its busines\n",
      "NDAQ\n",
      "error in interpreting the following label:  \n",
      "context: renault in talks to sell russia business for one ruble disney strategy is to stay silent to soften gov. desantis blow stocks end mostly higher; nasdaq edges lower ford posts dollars billion first quar\n",
      "error in interpreting the following label:  \n",
      "context: texas man facing execution after fatally stabbing real estate agent compagno, 'outnumbered' sound off on ny times 'aviator joe' piece: 'am i being pranked?' cnn, msnbc, abc fawn over liz cheney after \n",
      "AAPL\n",
      "error in interpreting the following label:  \n",
      "context: stock futures dip as rates jump on a strong jobs report diamondbacks vs. rockies prediction: zac gallen gives arizona the edge a mental health checklist for college students the glaring contradiction \n",
      "GOOG\n",
      "error in interpreting the following label:  \n",
      "context: ‘indiana jones’ star ke huy quan explains why he left acting for OZ OZ years: ‘it was tough’ paris hilton bodyguard chasing after her as she runs around coachella caught on video OZZZ OZZZ OZ OZ O O O\n",
      "error in interpreting the following label:  \n",
      "context: when does life begin? what different religions say about abortion russian forces resume assault on steel plant the dash for power: as electric vehicle sales surge, public charging stations in the u.s.\n",
      "error in interpreting the following label:  \n",
      "context: need to know: technician who called OZZZ OZZZ OZ OZ bottom now foresees a hocking rally' in south korea, joe biden seeks to rebuild economic ties across asia big tech is getting clobbered on wall stre\n",
      "error in interpreting the following label:  \n",
      "context: norwegian cruises will drop its requirement for negative coronavirus tests in most countries, but not in the u.s. stock futures slip following third straight day of gains for s&p OZZ OZZ OZZ OZZ OZZ t\n",
      "error in interpreting the following label:  \n",
      "context: thanksgiving could be ruined due to a looming cranberry shortage cnn axes don lemon from primetime, moved to morning show in anchor shakeup king charles won’t comment on archie, lilibet’s titles while\n",
      "META\n",
      "error in interpreting the following label:  \n",
      "context: don’t add curbs on guns. but repeal liability protections. germany’s chancellor promised to deter putin. then he did nothing. u.f.o.s, trump and twitter, and biden OZZZ OZZZ OZ OZ O O O O : your quest\n",
      "error in interpreting the following label:  \n",
      "context: what the decision to overturn roe v. wade means: states, businesses, politicians set positions west coast states tout abortion anctuary' the supreme court majority and dissent opinions on dobbs reveal\n",
      "error in interpreting the following label:  \n",
      "context: these are the signs that you're in a toxic work environment larry hogan snubs republican victor in maryland, escalating trump proxy war gop freezes up on same sex marriage biden announces modest steps\n",
      "error in interpreting the following label:  \n",
      "context: robin salo could fill islanders weakness after last year’s nhl introduction yankees’ gerrit cole ‘frustrated’ amid increased home runs given up bus crashes in costa rica, nine dead and OZ OZ OZ OZ OZ \n",
      "0.5012626262626263\n",
      "..\\Results\\validation\\GPT3.csv\n",
      "SPY\n",
      "error in interpreting the following label:  \n",
      "context: schumer wants vote on congressional stock trading ban before midterms: source brandon nimmo leaves mets game in first inning with injury fall is the season for building mindfulness and resilience what\n",
      "^DJI\n",
      "error in interpreting the following label:  \n",
      "context: schumer wants vote on congressional stock trading ban before midterms: source brandon nimmo leaves mets game in first inning with injury fall is the season for building mindfulness and resilience what\n",
      "NDAQ\n",
      "AAPL\n",
      "error in interpreting the following label:  \n",
      "context: heavy rain slams spain canary islands; O dead on mainland OZ O O arrested after clashes outside iranian embassy in london how the far right is surging in europe here a nightmare scenario for election \n",
      "GOOG\n",
      "META\n",
      "error in interpreting the following label:  \n",
      "context: hochul turns deaf ear to question of helping nyc handle migrant crisis letters to the editor oct. OZ O OZZZ OZZZ OZ OZ O O chris russo: buck showalter looked like ‘horse’s rear end’ with joe musgrove \n",
      "0.4270833333333333\n"
     ]
    }
   ],
   "source": [
    "paths = [os.path.join(\"..\", 'Results', x) for x in ['test', 'train', 'validation']]\n",
    "for path in paths:\n",
    "    if \"train\" in path:\n",
    "        data_iter = train_iter\n",
    "    elif \"validation\" in path:\n",
    "        data_iter = validation_iter\n",
    "    else:\n",
    "        data_iter = test_iter\n",
    "    save_path = os.path.join(path, 'GPT3.csv')\n",
    "    print(save_path)\n",
    "    df = pd.DataFrame(columns=[\"Labels\", \"Predictions\"])\n",
    "    for stock in stocks:\n",
    "        print(stock)\n",
    "        labels, predictions = eval_model(model, data_iter[stock], stock)\n",
    "        \n",
    "        \n",
    "        df = pd.concat([df, pd.DataFrame({\"Labels\": labels, \"Predictions\": predictions})])\n",
    "    acc = (df[\"Labels\"] == df[\"Predictions\"]).sum() / len(df)\n",
    "    print(acc)\n",
    "    df.to_csv(save_path, index=False)\n",
    "    # break\n"
   ]
  },
  {
   "cell_type": "code",
   "execution_count": 70,
   "metadata": {},
   "outputs": [
    {
     "data": {
      "text/plain": [
       "0.4117647058823529"
      ]
     },
     "execution_count": 70,
     "metadata": {},
     "output_type": "execute_result"
    }
   ],
   "source": [
    "# labels, predictions\n",
    "acc = np.mean(np.array(labels) == np.array(predictions))\n",
    "acc"
   ]
  },
  {
   "cell_type": "code",
   "execution_count": null,
   "metadata": {},
   "outputs": [],
   "source": []
  }
 ],
 "metadata": {
  "kernelspec": {
   "display_name": "Python 3.10.6 ('state-space')",
   "language": "python",
   "name": "python3"
  },
  "language_info": {
   "codemirror_mode": {
    "name": "ipython",
    "version": 3
   },
   "file_extension": ".py",
   "mimetype": "text/x-python",
   "name": "python",
   "nbconvert_exporter": "python",
   "pygments_lexer": "ipython3",
   "version": "3.10.8"
  },
  "orig_nbformat": 4,
  "vscode": {
   "interpreter": {
    "hash": "8313e864fa87587a257c6a13db96ed152cb1bb7e177e736a7a2d4b018b29005a"
   }
  }
 },
 "nbformat": 4,
 "nbformat_minor": 2
}
