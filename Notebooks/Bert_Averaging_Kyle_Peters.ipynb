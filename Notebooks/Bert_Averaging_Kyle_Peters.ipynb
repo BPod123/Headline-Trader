{
  "nbformat": 4,
  "nbformat_minor": 0,
  "metadata": {
    "colab": {
      "provenance": [],
      "collapsed_sections": []
    },
    "kernelspec": {
      "name": "python3",
      "display_name": "Python 3"
    },
    "language_info": {
      "name": "python"
    },
    "accelerator": "GPU",
    "gpuClass": "standard"
  },
  "cells": [
    {
      "cell_type": "code",
      "execution_count": 11,
      "metadata": {
        "id": "q46zYJwRUzpi"
      },
      "outputs": [],
      "source": [
        "import pandas as pd\n",
        "import numpy as np\n",
        "from tqdm import tqdm\n",
        "#https://pandas-datareader.readthedocs.io/en/latest/remote_data.html#fred\n",
        "import pandas_datareader.data as web\n",
        "import datetime\n",
        "\n",
        "import matplotlib.pyplot as plt\n",
        "pd.set_option('display.max_rows', 999)"
      ]
    },
    {
      "cell_type": "code",
      "source": [
        "stocks = []\n",
        "#, \"GC.F\", \"ZS.F\", \"NG.F\"\n",
        "#, \"Gold Futures\", \"Soybean\", \"Natural Gas\"\n",
        "tickers = [\"^SPX\", \"^DJI\", \"^NDQ\", \"AAPL\", \"GOOG\", \"META\"]\n",
        "tickerName = [\"S&P500\", \"DJI\", \"NDQ\", \"Apple\", \"Google\", \"Meta\"]\n",
        "for stock, ticker in tqdm(zip(tickerName, tickers)):\n",
        "    f = web.DataReader(ticker, 'stooq')\n",
        "    f[\"Ticker\"] = stock\n",
        "    stocks.append(f)\n",
        "\n",
        "stocks = pd.concat(stocks, axis=0)\n",
        "stocks = stocks.reset_index()"
      ],
      "metadata": {
        "colab": {
          "base_uri": "https://localhost:8080/"
        },
        "id": "kW2x4n59WFl9",
        "outputId": "a7fa0122-0c28-4f6c-8e34-4452c0047d23"
      },
      "execution_count": 42,
      "outputs": [
        {
          "output_type": "stream",
          "name": "stderr",
          "text": [
            "6it [00:09,  1.57s/it]\n"
          ]
        }
      ]
    },
    {
      "cell_type": "code",
      "source": [
        "# loading in modules\n",
        "import sqlite3\n",
        "\n",
        "# creating file path\n",
        "dbfile = '/content/Headlines.db'\n",
        "# Create a SQL connection to our SQLite database\n",
        "con = sqlite3.connect(dbfile)\n",
        "\n",
        "# creating cursor\n",
        "cur = con.cursor()\n",
        "\n",
        "# reading all table names\n",
        "table_list = [a for a in cur.execute(\"SELECT name FROM sqlite_master WHERE type = 'table'\")]\n",
        "#column_names = [a for a in cur.execute(\"PRAGMA table_info(headline);\")]\n",
        "# here is you table list\n",
        "print(table_list)\n",
        "\n",
        "\n",
        "feed = [a for a in cur.execute(\"SELECT * FROM feed\")]\n",
        "headlines = [a for a in cur.execute(\"SELECT * FROM headline\")]\n",
        "con.close()\n",
        "\n",
        "headlines = pd.DataFrame(headlines, columns = [\"Url\", \"Date\", \"Title\", \"Description\"])\n",
        "feed = pd.DataFrame(feed, columns = [\"Site\", \"Url\"])\n",
        "\n",
        "newsData = headlines.merge(feed, on=\"Url\")\n",
        "newsData[\"Date\"] = pd.to_datetime(newsData[\"Date\"])"
      ],
      "metadata": {
        "colab": {
          "base_uri": "https://localhost:8080/"
        },
        "id": "9tiO6L3KayU5",
        "outputId": "b13198ec-2a6b-4358-a3e5-e9735f6476a1"
      },
      "execution_count": 13,
      "outputs": [
        {
          "output_type": "stream",
          "name": "stdout",
          "text": [
            "[('feed',), ('headline',)]\n"
          ]
        }
      ]
    },
    {
      "cell_type": "code",
      "source": [
        "#\"Wall Street Journal Business\", \"New York Times Business\", \"CNBC Business\", \"Market Watch Real Time Headlines\", \"Market Watch Breaking News Bulletins\", \"CNBC Finance\", \"CNBC Personal Finance\", \"CNBC Market Insider\", \"CNBC Wealth\", \"CNBC Mad Money\", \"New York Times Economy\", \"CNBC Earnings\", \"CNBC Real Estate\", \"CNBC Economy\", \"CNBC Investing\", \"FOX Business Markets\", \"Sky News Business\", \"Politico Economy\", \"The Atlantic Business"
      ],
      "metadata": {
        "id": "tY-aBCqt6oFF"
      },
      "execution_count": null,
      "outputs": []
    },
    {
      "cell_type": "code",
      "source": [
        "newsData.Site.value_counts()"
      ],
      "metadata": {
        "id": "Ne84xJ7ihJ0b"
      },
      "execution_count": null,
      "outputs": []
    },
    {
      "cell_type": "code",
      "source": [
        "newsData[\"Year\"] = newsData[\"Date\"].dt.year\n",
        "newsData[\"Year\"].value_counts()"
      ],
      "metadata": {
        "id": "a_EtDng6hJ52"
      },
      "execution_count": null,
      "outputs": []
    },
    {
      "cell_type": "code",
      "source": [
        "newsData[\"uniqueMonth\"] = newsData[\"Date\"].dt.year.astype(str) + \" \" + newsData[\"Date\"].dt.month.astype(str)\n",
        "newsData[\"uniqueMonth\"].value_counts()"
      ],
      "metadata": {
        "id": "ucrFHZdahJ8K"
      },
      "execution_count": null,
      "outputs": []
    },
    {
      "cell_type": "code",
      "source": [
        "print(newsData.Title.isna().sum())\n",
        "print(newsData.Description.isna().sum())"
      ],
      "metadata": {
        "id": "WbrErEdEj1rV"
      },
      "execution_count": null,
      "outputs": []
    },
    {
      "cell_type": "code",
      "source": [],
      "metadata": {
        "id": "ID8TVFvjj4jn"
      },
      "execution_count": null,
      "outputs": []
    },
    {
      "cell_type": "code",
      "source": [],
      "metadata": {
        "id": "BQEKUAhhj4mp"
      },
      "execution_count": null,
      "outputs": []
    },
    {
      "cell_type": "code",
      "source": [
        "newsData.loc[newsData.Title.isna(),\"Title\"] = \"\"\n",
        "newsData.loc[newsData.Description.isna(),\"Description\"] = \"\"\n",
        "newsData.Title.replace({r'[^\\x00-\\x7F]+':''}, regex=True, inplace=True)"
      ],
      "metadata": {
        "id": "lETW4dmFj4pv"
      },
      "execution_count": null,
      "outputs": []
    },
    {
      "cell_type": "code",
      "source": [
        "newsData.loc[newsData.Title.str.contains(\"Kroger\"), :]"
      ],
      "metadata": {
        "id": "DhMj3FnLhJ-t"
      },
      "execution_count": null,
      "outputs": []
    },
    {
      "cell_type": "code",
      "source": [
        "from wordcloud import WordCloud, STOPWORDS\n",
        "import nltk\n",
        "nltk.download('stopwords') \n",
        "from nltk.corpus import stopwords\n",
        "import matplotlib.pyplot as plt\n",
        "\n",
        "def Plot_world(text):\n",
        "    \n",
        "    comment_words = ' '\n",
        "    stopwords = set(STOPWORDS) \n",
        "    \n",
        "    for val in text: \n",
        "        print(val)\n",
        "\n",
        "        # typecaste each val to string \n",
        "        val = str(val) \n",
        "\n",
        "        # split the value \n",
        "        tokens = val.split() \n",
        "\n",
        "        # Converts each token into lowercase \n",
        "        for i in range(len(tokens)): \n",
        "            tokens[i] = tokens[i].lower() \n",
        "\n",
        "        for words in tokens: \n",
        "            comment_words = comment_words + words + ' '\n",
        "text = \" \".join(i for i in list(newsData.Title.iloc[0:10000]))\n",
        "stopwords = set(STOPWORDS) \n",
        "wordcloud = WordCloud(width = 5000, height = 4000, \n",
        "                background_color ='black', \n",
        "                stopwords = stopwords, \n",
        "                min_font_size = 10).generate(text)\n",
        "\n",
        "# plot the WordCloud image                        \n",
        "plt.figure(figsize = (12, 12), facecolor = 'k', edgecolor = 'k' ) \n",
        "plt.imshow(wordcloud) \n",
        "plt.axis(\"off\") \n",
        "plt.tight_layout(pad = 0) \n",
        "\n",
        "plt.show() "
      ],
      "metadata": {
        "id": "eVBdoqmZj4Bl"
      },
      "execution_count": null,
      "outputs": []
    },
    {
      "cell_type": "code",
      "source": [],
      "metadata": {
        "id": "PvQZ4l7S4YnL"
      },
      "execution_count": null,
      "outputs": []
    },
    {
      "cell_type": "code",
      "source": [
        "sites = [\"Wall Street Journal Business\", \"New York Times Business\", \"CNBC Business\", \"Market Watch Real Time Headlines\", \"Market Watch Breaking News Bulletins\", \"CNBC Finance\", \"CNBC Personal Finance\", \"CNBC Market Insider\", \"CNBC Wealth\", \"CNBC Mad Money\", \"New York Times Economy\", \"CNBC Earnings\", \"CNBC Real Estate\", \"CNBC Economy\", \"CNBC Investing\", \"FOX Business Markets\", \"Sky News Business\", \"Politico Economy\", \"The Atlantic Business\"]\n",
        "\n",
        "businessNews = newsData[newsData.Site.isin(sites)]"
      ],
      "metadata": {
        "id": "fOuv_gce7wZC"
      },
      "execution_count": null,
      "outputs": []
    },
    {
      "cell_type": "code",
      "source": [
        "businessNews.shape"
      ],
      "metadata": {
        "id": "SajPF2Kz7wdL"
      },
      "execution_count": null,
      "outputs": []
    },
    {
      "cell_type": "code",
      "source": [
        "from wordcloud import WordCloud, STOPWORDS\n",
        "import nltk\n",
        "nltk.download('stopwords') \n",
        "from nltk.corpus import stopwords\n",
        "import matplotlib.pyplot as plt\n",
        "\n",
        "def Plot_world(text):\n",
        "    \n",
        "    comment_words = ' '\n",
        "    stopwords = set(STOPWORDS) \n",
        "    \n",
        "    for val in text: \n",
        "        print(val)\n",
        "\n",
        "        # typecaste each val to string \n",
        "        val = str(val) \n",
        "\n",
        "        # split the value \n",
        "        tokens = val.split() \n",
        "\n",
        "        # Converts each token into lowercase \n",
        "        for i in range(len(tokens)): \n",
        "            tokens[i] = tokens[i].lower() \n",
        "\n",
        "        for words in tokens: \n",
        "            comment_words = comment_words + words + ' '\n",
        "text = \" \".join(i for i in list(businessNews.Title.iloc[0:10000]))\n",
        "stopwords = set(STOPWORDS) \n",
        "wordcloud = WordCloud(width = 5000, height = 4000, \n",
        "                background_color ='black', \n",
        "                stopwords = stopwords, \n",
        "                min_font_size = 10).generate(text)\n",
        "\n",
        "# plot the WordCloud image                        \n",
        "plt.figure(figsize = (12, 12), facecolor = 'k', edgecolor = 'k' ) \n",
        "plt.imshow(wordcloud) \n",
        "plt.axis(\"off\") \n",
        "plt.tight_layout(pad = 0) \n",
        "\n",
        "plt.show() "
      ],
      "metadata": {
        "id": "RariLMNk7wgZ"
      },
      "execution_count": null,
      "outputs": []
    },
    {
      "cell_type": "code",
      "source": [],
      "metadata": {
        "id": "O-mWBYurs-4s"
      },
      "execution_count": null,
      "outputs": []
    },
    {
      "cell_type": "code",
      "source": [],
      "metadata": {
        "id": "miaLEMGXs_By"
      },
      "execution_count": null,
      "outputs": []
    },
    {
      "cell_type": "code",
      "source": [],
      "metadata": {
        "id": "8IemPs_ks_E1"
      },
      "execution_count": null,
      "outputs": []
    },
    {
      "cell_type": "code",
      "source": [],
      "metadata": {
        "id": "7hwNGBF_s_HC"
      },
      "execution_count": null,
      "outputs": []
    },
    {
      "cell_type": "code",
      "source": [
        "!pip install yfinance\n",
        "\n",
        "import sqlite3\n",
        "import pandas as pd\n",
        "import datetime\n",
        "import yfinance\n",
        "import numpy as np\n",
        "START_DATE = datetime.date(2022, 3, 7)\n",
        "def date_to_int(string):\n",
        "    string = string.split(' ')[0]\n",
        "    date = datetime.datetime.strptime(string, '%Y-%m-%d').date()\n",
        "    delta = date - START_DATE\n",
        "    return str(delta.days)\n",
        "\n",
        "def load_data(database_path: str, shift=5, percentage_split=(0.8, 0.1, 0.1), gap=False, pull_from_first_section=False):\n",
        "    \"\"\"\n",
        "    :param database_path: Path to headlines database\n",
        "    :param shift: The number of ticks offset the data and labels are. A shift of 5 is the same as one week as weekends\n",
        "        are clipped from the data.\n",
        "    :param percentage_split: iterable floats that sum to 1 that represent how the data is split up chronologically\n",
        "    :param gap: If true, will include a gap where the labels of one section of data overlap with the headlines of the\n",
        "        next section.\n",
        "    :param pull_from_first_section: If gap is False, this will do nothing. If True and gap is True, the first\n",
        "        section of data will be shrunk to allow the other sections to maintain their percentages. If False,\n",
        "        then each section before the last will be shortened by \"shift\" to accommodate the gap for\n",
        "        the proceeding section.\n",
        "    :return: array of length len(percentage_split)\n",
        "    \"\"\"\n",
        "    con = sqlite3.connect(database_path)\n",
        "    con.create_function(\"DATE_TO_INT\", 1, date_to_int)\n",
        "    df = pd.read_sql(\"\"\"\n",
        "    SELECT DATE_TO_INT(date) as 'date_int', name, date, title, description\n",
        "    FROM headline JOIN feed on feed.url=headline.url\n",
        "    WHERE CAST(date_int as int) >= 0 and\n",
        "     (CAST(date_int as int)) % 7 < 5 \"\"\", con)\n",
        "    con.close()\n",
        "    df['date_int'] = pd.to_numeric(df['date_int'])\n",
        "    df['date'] = pd.to_datetime(df['date']).apply(datetime.datetime.date)\n",
        "    real_news = df[(df['name'] != 'Babylon Bee (Fake News)') & (df['name'] != 'The Onion (Fake News)')].sort_values('date_int').reset_index().drop(columns=['index'])\n",
        "\n",
        "\n",
        "    end_date = START_DATE + datetime.timedelta(days=max(real_news['date_int']))\n",
        "    data = yfinance.download(\"SPY\", start=str(START_DATE), end=str(end_date))['Close'].reset_index()\n",
        "    data['Date'] = data['Date'].apply(datetime.datetime.date)\n",
        "    stock_dates = set(data['Date'])\n",
        "    days = [x for x in [real_news[real_news['date_int'] == x].reset_index().drop(columns=['index']) for x in\n",
        "                        sorted(set(real_news['date_int']))] if x['date'][0] in stock_dates]\n",
        "\n",
        "    # Add shift spaces to the end to use for padding\n",
        "    closing_prices = np.concatenate([data['Close'].to_numpy(), np.zeros((shift,))])\n",
        "\n",
        "    stacked = np.stack([np.roll(closing_prices, shift), closing_prices])\n",
        "    data['Label'] = (stacked[1] > stacked[0])[shift:]\n",
        "    data = data[:-shift]\n",
        "    days = days[shift:]\n",
        "    all_data = list(zip(days, (data.T[i] for i in range(len(data)))))\n",
        "    length = len(all_data)\n",
        "    lengths = list(map(lambda x: round(x * length), percentage_split))[:-1]\n",
        "\n",
        "    if len(percentage_split) > 1:\n",
        "        start = 0\n",
        "        return_data = []\n",
        "        if gap and pull_from_first_section:\n",
        "            lengths[0] -= shift * len(lengths)\n",
        "        for subset_length in lengths:\n",
        "            if gap and not pull_from_first_section:\n",
        "                subset_length -= shift\n",
        "            return_data.append(all_data[start:start + subset_length])\n",
        "            start += subset_length\n",
        "            if gap:\n",
        "                start += shift\n",
        "        return_data.append(all_data[start:])\n",
        "        return return_data\n",
        "    return all_data\n",
        "\n",
        "\n",
        "\n",
        "\n",
        "if __name__ == '__main__':\n",
        "    with_gaps_pull_from_first = load_data(\"/content/Headlines.db\", 5, (0.6, 0.1, 0.3), True, True)"
      ],
      "metadata": {
        "id": "XOFDEFhds_J1",
        "colab": {
          "base_uri": "https://localhost:8080/"
        },
        "outputId": "b1b8e4b0-c828-41ff-b6d8-01374e116478"
      },
      "execution_count": 5,
      "outputs": [
        {
          "output_type": "stream",
          "name": "stdout",
          "text": [
            "Looking in indexes: https://pypi.org/simple, https://us-python.pkg.dev/colab-wheels/public/simple/\n",
            "Requirement already satisfied: yfinance in /usr/local/lib/python3.7/dist-packages (0.1.86)\n",
            "Requirement already satisfied: requests>=2.26 in /usr/local/lib/python3.7/dist-packages (from yfinance) (2.28.1)\n",
            "Requirement already satisfied: lxml>=4.5.1 in /usr/local/lib/python3.7/dist-packages (from yfinance) (4.9.1)\n",
            "Requirement already satisfied: pandas>=0.24.0 in /usr/local/lib/python3.7/dist-packages (from yfinance) (1.3.5)\n",
            "Requirement already satisfied: multitasking>=0.0.7 in /usr/local/lib/python3.7/dist-packages (from yfinance) (0.0.11)\n",
            "Requirement already satisfied: appdirs>=1.4.4 in /usr/local/lib/python3.7/dist-packages (from yfinance) (1.4.4)\n",
            "Requirement already satisfied: numpy>=1.15 in /usr/local/lib/python3.7/dist-packages (from yfinance) (1.21.6)\n",
            "Requirement already satisfied: pytz>=2017.3 in /usr/local/lib/python3.7/dist-packages (from pandas>=0.24.0->yfinance) (2022.6)\n",
            "Requirement already satisfied: python-dateutil>=2.7.3 in /usr/local/lib/python3.7/dist-packages (from pandas>=0.24.0->yfinance) (2.8.2)\n",
            "Requirement already satisfied: six>=1.5 in /usr/local/lib/python3.7/dist-packages (from python-dateutil>=2.7.3->pandas>=0.24.0->yfinance) (1.15.0)\n",
            "Requirement already satisfied: charset-normalizer<3,>=2 in /usr/local/lib/python3.7/dist-packages (from requests>=2.26->yfinance) (2.1.1)\n",
            "Requirement already satisfied: urllib3<1.27,>=1.21.1 in /usr/local/lib/python3.7/dist-packages (from requests>=2.26->yfinance) (1.24.3)\n",
            "Requirement already satisfied: certifi>=2017.4.17 in /usr/local/lib/python3.7/dist-packages (from requests>=2.26->yfinance) (2022.9.24)\n",
            "Requirement already satisfied: idna<4,>=2.5 in /usr/local/lib/python3.7/dist-packages (from requests>=2.26->yfinance) (2.10)\n",
            "[*********************100%***********************]  1 of 1 completed\n"
          ]
        }
      ]
    },
    {
      "cell_type": "code",
      "source": [
        "train, val, test = with_gaps_pull_from_first\n",
        "last_date_train = train[-1][0].date.astype(\"str\").iloc[0]\n",
        "first_date_val = val[0][0].date.astype(\"str\").iloc[0]\n",
        "first_date_test = test[0][0].date.astype(\"str\").iloc[0]"
      ],
      "metadata": {
        "id": "Ar1dNIDys_Mg"
      },
      "execution_count": 6,
      "outputs": []
    },
    {
      "cell_type": "code",
      "source": [
        "\n",
        "sites = [\"Wall Street Journal Business\", \"New York Times Business\", \"CNBC Business\", \"Market Watch Real Time Headlines\", \"Market Watch Breaking News Bulletins\", \"CNBC Finance\", \"CNBC Personal Finance\", \"CNBC Market Insider\", \"CNBC Wealth\", \"CNBC Mad Money\", \"New York Times Economy\", \"CNBC Earnings\", \"CNBC Real Estate\", \"CNBC Economy\", \"CNBC Investing\", \"FOX Business Markets\", \"Sky News Business\", \"Politico Economy\", \"The Atlantic Business\"]\n",
        "\n",
        "businessNews = newsData[newsData.Site.isin(sites)]\n",
        "businessNews=businessNews[businessNews.Date.dt.year>2021]\n",
        "businessNews.reset_index(inplace=True, drop=True)\n",
        "businessNews[\"dayOfYear\"] = businessNews[\"Date\"].dt.strftime('%j').astype(int)\n",
        "\n",
        "stocks[\"Log_Close\"] = np.log(stocks.Close)\n",
        "stocks[\"Close_Change\"] = stocks[\"Log_Close\"].shift(5) - stocks[\"Log_Close\"]\n",
        "stocks[\"Price_Class\"] = (stocks[\"Close_Change\"]>=0).astype(int)\n",
        "stocks[\"DayOfYear\"] = stocks.Date.dt.dayofyear\n",
        "stocks.dropna(inplace=True)\n",
        "\n",
        "stocks=stocks.loc[stocks.Date.dt.year>2021]\n",
        "#stocks=stocks.loc[stocks[\"DayOfYear\"]<=245]\n",
        "stocks.reset_index(inplace=True, drop=True)"
      ],
      "metadata": {
        "id": "sVsVdr0Y7wkt"
      },
      "execution_count": 44,
      "outputs": []
    },
    {
      "cell_type": "code",
      "source": [
        "stocks[\"Price_Class\"].mean()"
      ],
      "metadata": {
        "colab": {
          "base_uri": "https://localhost:8080/"
        },
        "id": "Jn7VfqFG2tvj",
        "outputId": "531f05c1-4a08-42ef-96ae-f6db9dba87c8"
      },
      "execution_count": 45,
      "outputs": [
        {
          "output_type": "execute_result",
          "data": {
            "text/plain": [
              "0.44385026737967914"
            ]
          },
          "metadata": {},
          "execution_count": 45
        }
      ]
    },
    {
      "cell_type": "code",
      "source": [
        "import torch\n",
        "import torch.utils.data as data\n",
        "from torch.utils.data import DataLoader\n",
        "\n",
        "#first, install the hugging face transformer package in your colab\n",
        "!pip install transformers\n",
        "from transformers import get_linear_schedule_with_warmup\n",
        "from tokenizers.processors import BertProcessing\n",
        "\n",
        "bert_model_name = 'distilbert-base-uncased' \n",
        "##YOUR CODE HERE##\n",
        "from transformers import DistilBertModel, DistilBertTokenizer\n",
        "bert_model = DistilBertModel.from_pretrained(bert_model_name)\n",
        "tokenizer = DistilBertTokenizer.from_pretrained(bert_model_name)"
      ],
      "metadata": {
        "id": "0pc4mbLb_GVR",
        "colab": {
          "base_uri": "https://localhost:8080/"
        },
        "outputId": "ee7dabe6-5c8a-499a-acde-383f10d830d3"
      },
      "execution_count": 46,
      "outputs": [
        {
          "output_type": "stream",
          "name": "stdout",
          "text": [
            "Looking in indexes: https://pypi.org/simple, https://us-python.pkg.dev/colab-wheels/public/simple/\n",
            "Requirement already satisfied: transformers in /usr/local/lib/python3.7/dist-packages (4.24.0)\n",
            "Requirement already satisfied: tqdm>=4.27 in /usr/local/lib/python3.7/dist-packages (from transformers) (4.64.1)\n",
            "Requirement already satisfied: packaging>=20.0 in /usr/local/lib/python3.7/dist-packages (from transformers) (21.3)\n",
            "Requirement already satisfied: tokenizers!=0.11.3,<0.14,>=0.11.1 in /usr/local/lib/python3.7/dist-packages (from transformers) (0.13.2)\n",
            "Requirement already satisfied: regex!=2019.12.17 in /usr/local/lib/python3.7/dist-packages (from transformers) (2022.6.2)\n",
            "Requirement already satisfied: filelock in /usr/local/lib/python3.7/dist-packages (from transformers) (3.8.0)\n",
            "Requirement already satisfied: huggingface-hub<1.0,>=0.10.0 in /usr/local/lib/python3.7/dist-packages (from transformers) (0.10.1)\n",
            "Requirement already satisfied: numpy>=1.17 in /usr/local/lib/python3.7/dist-packages (from transformers) (1.21.6)\n",
            "Requirement already satisfied: pyyaml>=5.1 in /usr/local/lib/python3.7/dist-packages (from transformers) (6.0)\n",
            "Requirement already satisfied: requests in /usr/local/lib/python3.7/dist-packages (from transformers) (2.28.1)\n",
            "Requirement already satisfied: importlib-metadata in /usr/local/lib/python3.7/dist-packages (from transformers) (4.13.0)\n",
            "Requirement already satisfied: typing-extensions>=3.7.4.3 in /usr/local/lib/python3.7/dist-packages (from huggingface-hub<1.0,>=0.10.0->transformers) (4.1.1)\n",
            "Requirement already satisfied: pyparsing!=3.0.5,>=2.0.2 in /usr/local/lib/python3.7/dist-packages (from packaging>=20.0->transformers) (3.0.9)\n",
            "Requirement already satisfied: zipp>=0.5 in /usr/local/lib/python3.7/dist-packages (from importlib-metadata->transformers) (3.10.0)\n",
            "Requirement already satisfied: charset-normalizer<3,>=2 in /usr/local/lib/python3.7/dist-packages (from requests->transformers) (2.1.1)\n",
            "Requirement already satisfied: idna<4,>=2.5 in /usr/local/lib/python3.7/dist-packages (from requests->transformers) (2.10)\n",
            "Requirement already satisfied: certifi>=2017.4.17 in /usr/local/lib/python3.7/dist-packages (from requests->transformers) (2022.9.24)\n",
            "Requirement already satisfied: urllib3<1.27,>=1.21.1 in /usr/local/lib/python3.7/dist-packages (from requests->transformers) (1.24.3)\n"
          ]
        },
        {
          "output_type": "stream",
          "name": "stderr",
          "text": [
            "Some weights of the model checkpoint at distilbert-base-uncased were not used when initializing DistilBertModel: ['vocab_layer_norm.weight', 'vocab_transform.weight', 'vocab_transform.bias', 'vocab_projector.weight', 'vocab_layer_norm.bias', 'vocab_projector.bias']\n",
            "- This IS expected if you are initializing DistilBertModel from the checkpoint of a model trained on another task or with another architecture (e.g. initializing a BertForSequenceClassification model from a BertForPreTraining model).\n",
            "- This IS NOT expected if you are initializing DistilBertModel from the checkpoint of a model that you expect to be exactly identical (initializing a BertForSequenceClassification model from a BertForSequenceClassification model).\n"
          ]
        }
      ]
    },
    {
      "cell_type": "code",
      "source": [
        "device = torch.device('cuda' if torch.cuda.is_available() else 'cpu')\n",
        "\n",
        "bert_model = bert_model.to(device).eval()"
      ],
      "metadata": {
        "id": "bP7xjXWPBBjS"
      },
      "execution_count": 47,
      "outputs": []
    },
    {
      "cell_type": "code",
      "source": [
        "texts = businessNews.Title.to_numpy()\n",
        "embeddings = []\n",
        "for i in tqdm(range(0, businessNews.shape[0], 1000)):\n",
        "    encodings = tokenizer(\n",
        "        list(texts[i:i+1000]), # the texts to be tokenized\n",
        "        padding=True, # pad the texts to the maximum length (so that all outputs have the same length)\n",
        "        return_tensors='pt' # return the tensors (not lists)\n",
        "    ).to(device)\n",
        "    with torch.no_grad():\n",
        "      embeds = bert_model(**encodings)\n",
        "      embeddings.append(embeds[0][:,0,:].cpu().numpy())\n",
        "embeddings = np.concatenate(embeddings, axis=0)\n"
      ],
      "metadata": {
        "colab": {
          "base_uri": "https://localhost:8080/"
        },
        "id": "vpr-NrDUEQXW",
        "outputId": "3b0fb9e1-0e1d-42e1-b122-8a8882ba5a80"
      },
      "execution_count": 48,
      "outputs": [
        {
          "output_type": "stream",
          "name": "stderr",
          "text": [
            "100%|██████████| 30/30 [00:43<00:00,  1.45s/it]\n"
          ]
        }
      ]
    },
    {
      "cell_type": "code",
      "source": [
        "embeddingData = np.zeros((365, 768))\n",
        "for day in range(365):\n",
        "    subset = np.where(businessNews[\"dayOfYear\"] == day+1)[0]\n",
        "    if subset.shape[0] == 0:\n",
        "      print(day)\n",
        "      continue\n",
        "    embeddingData[day ,:] = embeddings[subset,:].mean(axis=0)\n",
        "embeddingData = torch.Tensor(embeddingData)"
      ],
      "metadata": {
        "id": "j51WXA71iyxM",
        "colab": {
          "base_uri": "https://localhost:8080/"
        },
        "outputId": "c9e0c580-eb57-497b-c925-f95f66137d59"
      },
      "execution_count": 49,
      "outputs": [
        {
          "output_type": "stream",
          "name": "stdout",
          "text": [
            "310\n",
            "311\n",
            "312\n",
            "313\n",
            "314\n",
            "315\n",
            "316\n",
            "317\n",
            "318\n",
            "319\n",
            "320\n",
            "321\n",
            "322\n",
            "323\n",
            "324\n",
            "325\n",
            "326\n",
            "327\n",
            "328\n",
            "329\n",
            "330\n",
            "331\n",
            "332\n",
            "333\n",
            "334\n",
            "335\n",
            "336\n",
            "337\n",
            "338\n",
            "339\n",
            "340\n",
            "341\n",
            "342\n",
            "343\n",
            "344\n",
            "345\n",
            "346\n",
            "347\n",
            "348\n",
            "349\n",
            "350\n",
            "351\n",
            "352\n",
            "353\n",
            "354\n",
            "355\n",
            "356\n",
            "357\n",
            "358\n",
            "359\n",
            "360\n",
            "361\n",
            "362\n",
            "363\n",
            "364\n"
          ]
        }
      ]
    },
    {
      "cell_type": "code",
      "source": [
        "class AverageMeter(object):\n",
        "    def __init__(self, name: str, fmt: str = \":f\") -> None:\n",
        "        self.name = name\n",
        "        self.fmt = fmt\n",
        "        self.reset()\n",
        "    def reset(self) -> None:\n",
        "        self.val = 0\n",
        "        self.avg = 0\n",
        "        self.sum = 0\n",
        "        self.count = 0\n",
        "    def update(self, val: float, n: int = 1):\n",
        "        self.val = val\n",
        "        self.sum += val * n\n",
        "        self.count += n\n",
        "        self.avg = self.sum / self.count\n",
        "    def __str__(self):\n",
        "        fmtstr = \"{name} {val\" + self.fmt + \"} ({avg\" + self.fmt + \"})\"\n",
        "        return fmtstr.format(**self.__dict__)\n",
        "class EmbeddingLoader(data.Dataset):\n",
        "    def __init__(self, stocks, embeddings):\n",
        "        self.stockData = stocks\n",
        "        self.embeddings = embeddings\n",
        "    def __getitem__(self, index):\n",
        "        data = self.stockData.loc[index,[\"DayOfYear\", \"Price_Class\",\"Ticker\"]]\n",
        "\n",
        "        x = self.embeddings[data[\"DayOfYear\"]-1,:]\n",
        "        y = data[\"Price_Class\"]\n",
        "        ticker = data[\"Ticker\"]\n",
        "        return x, y, ticker # \"Ticker\"\n",
        "\n",
        "    def __len__(self) -> int:\n",
        "        return self.stockData.shape[0]\n",
        "\n",
        "import torch.nn as nn\n",
        "class MLP(nn.Module):\n",
        "    def __init__(self, tickers):\n",
        "        super().__init__()\n",
        "\n",
        "        #Remove first and last layer. Replace the first one with a convolution of grey scale\n",
        "        self.fc_layers = nn.Sequential(\n",
        "          nn.Linear(768, 128),\n",
        "          nn.ReLU(),\n",
        "          nn.Dropout(.3),\n",
        "          nn.Linear(128, 1),\n",
        "          nn.Sigmoid()\n",
        "        )\n",
        "\n",
        "\n",
        "        #self.moduleList = nn.ModuleList([nn.Sequential(nn.Linear(128,1),nn.Sigmoid()) for i in range(6)])\n",
        "        #self.tickerList = tickers \n",
        "\n",
        "    def forward(self, x, tickers):\n",
        "      output = self.fc_layers(x)\n",
        "\n",
        "      #output = torch.zeros((x.shape[0],1)).to(device)\n",
        "      #for i, ticker in enumerate(self.tickerList):\n",
        "      #  if x[tickers==ticker].shape[0] == 0:\n",
        "      #    continue\n",
        "\n",
        "      #  output[tickers==ticker] = self.moduleList[i](x[tickers==ticker])\n",
        "\n",
        "\n",
        "      return output\n",
        "\n",
        "\n",
        "endTrain = \"2022-07-01\"\n",
        "stockTickers = stocks#[stocks.Ticker.isin([\"NDQ\"])]\n",
        "train_dataset = EmbeddingLoader(stockTickers[stockTickers[\"Date\"] < last_date_train].reset_index(drop=True), embeddingData)\n",
        "train_loader = DataLoader(train_dataset, batch_size=32, shuffle=True) #dataloader_args\n",
        "\n",
        "validation_dataset = EmbeddingLoader(stockTickers[(stockTickers[\"Date\"] >= first_date_val) & (stockTickers[\"Date\"] < first_date_test)].reset_index(drop=True), embeddingData)\n",
        "validation_loader = DataLoader(validation_dataset, batch_size=128, shuffle=False) #dataloader_args\n",
        "\n",
        "test_dataset = EmbeddingLoader(stockTickers[(stockTickers[\"Date\"] >= first_date_test)].reset_index(drop=True), embeddingData)\n",
        "test_loader = DataLoader(test_dataset, batch_size=128, shuffle=False) #dataloader_args\n",
        "\n",
        "tickers = list(stocks.Ticker.unique())\n",
        "\n",
        "proportionOnes = stockTickers[stockTickers[\"Date\"] < endTrain][\"Price_Class\"].mean()\n",
        "print(stockTickers[stockTickers[\"Date\"] < endTrain][\"Price_Class\"].mean())\n",
        "print(stockTickers[stockTickers[\"Date\"] >= endTrain][\"Price_Class\"].mean())"
      ],
      "metadata": {
        "id": "_WDIarYkrxNH",
        "colab": {
          "base_uri": "https://localhost:8080/"
        },
        "outputId": "aabfbc95-9431-4ac3-eae8-aea3ff3beb1f"
      },
      "execution_count": 67,
      "outputs": [
        {
          "output_type": "stream",
          "name": "stdout",
          "text": [
            "0.41397849462365593\n",
            "0.4831858407079646\n"
          ]
        }
      ]
    },
    {
      "cell_type": "code",
      "source": [
        "print(len(train_dataset))\n",
        "print(len(validation_dataset))\n",
        "print(len(test_dataset))"
      ],
      "metadata": {
        "colab": {
          "base_uri": "https://localhost:8080/"
        },
        "id": "2nn04N1bFLSl",
        "outputId": "50ee919f-12dc-45ca-a63a-735281ab2ae3"
      },
      "execution_count": 68,
      "outputs": [
        {
          "output_type": "stream",
          "name": "stdout",
          "text": [
            "810\n",
            "126\n",
            "337\n"
          ]
        }
      ]
    },
    {
      "cell_type": "code",
      "source": [
        "num_epochs = 100\n",
        "model = MLP(tickers).to(device)\n",
        "proportionOnes = stockTickers[stockTickers[\"Date\"] < endTrain][\"Price_Class\"].mean()\n",
        "learning_rate=0.00005\n",
        "optimizer = torch.optim.AdamW(model.parameters(), lr=learning_rate)\n",
        "\n",
        "train_loss_history = []\n",
        "train_accuracy_history = []\n",
        "validation_loss_history = []\n",
        "validation_accuracy_history = []\n",
        "val_history = []\n",
        "test_history = []\n",
        "for epoch_idx in range(num_epochs):\n",
        "    model.train()\n",
        "\n",
        "    train_loss_meter = AverageMeter(\"train loss\")\n",
        "    train_acc_meter = AverageMeter(\"train accuracy\")\n",
        "\n",
        "    # loop over each minibatch\n",
        "    for (x, y, tickers) in tqdm(train_loader):\n",
        "        x = x.to(device)\n",
        "        y = y.to(device).float()\n",
        "        n = x.shape[0]\n",
        "        outputs = model(x, np.array(tickers))\n",
        "\n",
        "        weight = torch.zeros(y.shape[0],device=device)\n",
        "        weight[y==1] = 1-proportionOnes\n",
        "        weight[y==0] = proportionOnes\n",
        "        criterion = nn.BCELoss(weight = weight)\n",
        "\n",
        "        batch_loss = criterion(outputs.reshape(-1), y.reshape(-1)) #/\n",
        "\n",
        "        train_loss_meter.update(val=float(batch_loss.cpu().item()), n=n)\n",
        "        \n",
        "        train_acc_meter.update(val=((outputs>.5).reshape(-1)==y).float().mean().item() ,n=n)\n",
        "\n",
        "        optimizer.zero_grad()\n",
        "        batch_loss.backward()\n",
        "        optimizer.step()\n",
        "\n",
        "    train_loss, train_acc = train_loss_meter.avg, train_acc_meter.avg\n",
        "    train_loss_history.append(train_loss)\n",
        "    train_accuracy_history.append(train_acc)\n",
        "\n",
        "\n",
        "    model.eval()\n",
        "    val_loss_meter = AverageMeter(\"val loss\")\n",
        "    val_acc_meter = AverageMeter(\"val accuracy\")\n",
        "    val_preds = []\n",
        "    val_labels = []\n",
        "    with torch.no_grad():\n",
        "      for (x, y, tickers) in tqdm(validation_loader):\n",
        "          x = x.to(device)\n",
        "          y = y.to(device).float()\n",
        "          n = x.shape[0]\n",
        "          outputs = model(x, np.array(tickers))\n",
        "\n",
        "          weight = torch.zeros(y.shape[0],device=device)\n",
        "          weight[y==1] = 1-proportionOnes\n",
        "          weight[y==0] = proportionOnes\n",
        "          criterion = nn.BCELoss(weight = weight)\n",
        "\n",
        "          batch_loss = criterion(outputs.reshape(-1), y.reshape(-1)) #/\n",
        "\n",
        "          val_loss_meter.update(val=float(batch_loss.cpu().item()), n=n)\n",
        "          val_acc_meter.update(val=((outputs>.5).reshape(-1)==y).float().mean().item() ,n=n)\n",
        "\n",
        "          val_preds.extend(outputs.cpu().numpy().tolist())\n",
        "          val_labels.extend(y.cpu().numpy().tolist())\n",
        "\n",
        "    val_history.append(val_preds)\n",
        "    val_loss, val_acc =  val_loss_meter.avg, val_acc_meter.avg\n",
        "    validation_loss_history.append(val_loss)\n",
        "    validation_accuracy_history.append(val_acc)\n",
        "\n",
        "\n",
        "    test_preds = []\n",
        "    test_labels = []\n",
        "    with torch.no_grad():\n",
        "      for (x, y, tickers) in tqdm(test_loader):\n",
        "          x = x.to(device)\n",
        "          y = y.to(device).float()\n",
        "          n = x.shape[0]\n",
        "          outputs = model(x, np.array(tickers))\n",
        "\n",
        "          test_preds.extend(outputs.cpu().numpy().tolist())\n",
        "          test_labels.extend(y.cpu().numpy().tolist())\n",
        "    test_history.append(test_preds)\n",
        "\n",
        "    print(\n",
        "        f\"Epoch:{epoch_idx + 1}\"\n",
        "        + f\" Train Loss:{train_loss:.4f}\"\n",
        "        + f\" Val Loss: {val_loss:.4f}\"\n",
        "        + f\" Train Accuracy: {train_acc:.4f}\"\n",
        "        + f\" Validation Accuracy: {val_acc:.4f}\"\n",
        "    )\n",
        "    #for g in optimizer.param_groups:\n",
        "    #  g['lr'] = g['lr'] * .99\n",
        "\n",
        "    \n",
        "    \n",
        "val_preds = np.array(val_preds).reshape(-1)\n",
        "val_labels = np.array(val_labels).reshape(-1)\n",
        "\n",
        "test_preds = np.array(test_preds).reshape(-1)\n",
        "test_labels = np.array(test_labels).reshape(-1)"
      ],
      "metadata": {
        "colab": {
          "base_uri": "https://localhost:8080/"
        },
        "id": "IkaFRlgkrqGT",
        "outputId": "11d25c9f-3d1a-4db0-8aa6-72b5814f9b94"
      },
      "execution_count": 77,
      "outputs": [
        {
          "output_type": "stream",
          "name": "stderr",
          "text": [
            "100%|██████████| 26/26 [00:01<00:00, 20.11it/s]\n",
            "100%|██████████| 1/1 [00:00<00:00,  4.46it/s]\n",
            "100%|██████████| 3/3 [00:00<00:00,  5.17it/s]\n"
          ]
        },
        {
          "output_type": "stream",
          "name": "stdout",
          "text": [
            "Epoch:1 Train Loss:0.3396 Val Loss: 0.3538 Train Accuracy: 0.4519 Validation Accuracy: 0.4683\n"
          ]
        },
        {
          "output_type": "stream",
          "name": "stderr",
          "text": [
            "100%|██████████| 26/26 [00:01<00:00, 18.41it/s]\n",
            "100%|██████████| 1/1 [00:00<00:00,  5.31it/s]\n",
            "100%|██████████| 3/3 [00:00<00:00,  5.43it/s]\n"
          ]
        },
        {
          "output_type": "stream",
          "name": "stdout",
          "text": [
            "Epoch:2 Train Loss:0.3388 Val Loss: 0.3489 Train Accuracy: 0.4642 Validation Accuracy: 0.5317\n"
          ]
        },
        {
          "output_type": "stream",
          "name": "stderr",
          "text": [
            "100%|██████████| 26/26 [00:01<00:00, 19.40it/s]\n",
            "100%|██████████| 1/1 [00:00<00:00,  6.52it/s]\n",
            "100%|██████████| 3/3 [00:00<00:00,  6.43it/s]\n"
          ]
        },
        {
          "output_type": "stream",
          "name": "stdout",
          "text": [
            "Epoch:3 Train Loss:0.3387 Val Loss: 0.3426 Train Accuracy: 0.4901 Validation Accuracy: 0.5317\n"
          ]
        },
        {
          "output_type": "stream",
          "name": "stderr",
          "text": [
            "100%|██████████| 26/26 [00:01<00:00, 20.74it/s]\n",
            "100%|██████████| 1/1 [00:00<00:00,  4.22it/s]\n",
            "100%|██████████| 3/3 [00:00<00:00,  5.31it/s]\n"
          ]
        },
        {
          "output_type": "stream",
          "name": "stdout",
          "text": [
            "Epoch:4 Train Loss:0.3375 Val Loss: 0.3468 Train Accuracy: 0.4691 Validation Accuracy: 0.5317\n"
          ]
        },
        {
          "output_type": "stream",
          "name": "stderr",
          "text": [
            "100%|██████████| 26/26 [00:01<00:00, 19.52it/s]\n",
            "100%|██████████| 1/1 [00:00<00:00,  7.98it/s]\n",
            "100%|██████████| 3/3 [00:00<00:00,  8.53it/s]\n"
          ]
        },
        {
          "output_type": "stream",
          "name": "stdout",
          "text": [
            "Epoch:5 Train Loss:0.3364 Val Loss: 0.3442 Train Accuracy: 0.5642 Validation Accuracy: 0.5317\n"
          ]
        },
        {
          "output_type": "stream",
          "name": "stderr",
          "text": [
            "100%|██████████| 26/26 [00:00<00:00, 27.92it/s]\n",
            "100%|██████████| 1/1 [00:00<00:00,  8.27it/s]\n",
            "100%|██████████| 3/3 [00:00<00:00,  7.92it/s]\n"
          ]
        },
        {
          "output_type": "stream",
          "name": "stdout",
          "text": [
            "Epoch:6 Train Loss:0.3379 Val Loss: 0.3553 Train Accuracy: 0.4704 Validation Accuracy: 0.4683\n"
          ]
        },
        {
          "output_type": "stream",
          "name": "stderr",
          "text": [
            "100%|██████████| 26/26 [00:00<00:00, 27.98it/s]\n",
            "100%|██████████| 1/1 [00:00<00:00,  8.01it/s]\n",
            "100%|██████████| 3/3 [00:00<00:00,  8.56it/s]\n"
          ]
        },
        {
          "output_type": "stream",
          "name": "stdout",
          "text": [
            "Epoch:7 Train Loss:0.3366 Val Loss: 0.3485 Train Accuracy: 0.5037 Validation Accuracy: 0.5317\n"
          ]
        },
        {
          "output_type": "stream",
          "name": "stderr",
          "text": [
            "100%|██████████| 26/26 [00:00<00:00, 26.37it/s]\n",
            "100%|██████████| 1/1 [00:00<00:00, 13.15it/s]\n",
            "100%|██████████| 3/3 [00:00<00:00, 13.54it/s]\n"
          ]
        },
        {
          "output_type": "stream",
          "name": "stdout",
          "text": [
            "Epoch:8 Train Loss:0.3369 Val Loss: 0.3441 Train Accuracy: 0.5432 Validation Accuracy: 0.5317\n"
          ]
        },
        {
          "output_type": "stream",
          "name": "stderr",
          "text": [
            "100%|██████████| 26/26 [00:00<00:00, 30.99it/s]\n",
            "100%|██████████| 1/1 [00:00<00:00,  7.54it/s]\n",
            "100%|██████████| 3/3 [00:00<00:00,  8.85it/s]\n"
          ]
        },
        {
          "output_type": "stream",
          "name": "stdout",
          "text": [
            "Epoch:9 Train Loss:0.3340 Val Loss: 0.3472 Train Accuracy: 0.4815 Validation Accuracy: 0.5317\n"
          ]
        },
        {
          "output_type": "stream",
          "name": "stderr",
          "text": [
            "100%|██████████| 26/26 [00:00<00:00, 29.03it/s]\n",
            "100%|██████████| 1/1 [00:00<00:00,  7.01it/s]\n",
            "100%|██████████| 3/3 [00:00<00:00,  9.23it/s]\n"
          ]
        },
        {
          "output_type": "stream",
          "name": "stdout",
          "text": [
            "Epoch:10 Train Loss:0.3352 Val Loss: 0.3499 Train Accuracy: 0.5173 Validation Accuracy: 0.4841\n"
          ]
        },
        {
          "output_type": "stream",
          "name": "stderr",
          "text": [
            "100%|██████████| 26/26 [00:00<00:00, 29.61it/s]\n",
            "100%|██████████| 1/1 [00:00<00:00,  8.55it/s]\n",
            "100%|██████████| 3/3 [00:00<00:00,  8.98it/s]\n"
          ]
        },
        {
          "output_type": "stream",
          "name": "stdout",
          "text": [
            "Epoch:11 Train Loss:0.3349 Val Loss: 0.3469 Train Accuracy: 0.5198 Validation Accuracy: 0.5317\n"
          ]
        },
        {
          "output_type": "stream",
          "name": "stderr",
          "text": [
            "100%|██████████| 26/26 [00:00<00:00, 28.49it/s]\n",
            "100%|██████████| 1/1 [00:00<00:00,  7.86it/s]\n",
            "100%|██████████| 3/3 [00:00<00:00,  8.69it/s]\n"
          ]
        },
        {
          "output_type": "stream",
          "name": "stdout",
          "text": [
            "Epoch:12 Train Loss:0.3353 Val Loss: 0.3413 Train Accuracy: 0.5173 Validation Accuracy: 0.5317\n"
          ]
        },
        {
          "output_type": "stream",
          "name": "stderr",
          "text": [
            "100%|██████████| 26/26 [00:00<00:00, 27.85it/s]\n",
            "100%|██████████| 1/1 [00:00<00:00,  6.24it/s]\n",
            "100%|██████████| 3/3 [00:00<00:00,  3.45it/s]\n"
          ]
        },
        {
          "output_type": "stream",
          "name": "stdout",
          "text": [
            "Epoch:13 Train Loss:0.3338 Val Loss: 0.3556 Train Accuracy: 0.4914 Validation Accuracy: 0.5159\n"
          ]
        },
        {
          "output_type": "stream",
          "name": "stderr",
          "text": [
            "100%|██████████| 26/26 [00:00<00:00, 35.08it/s]\n",
            "100%|██████████| 1/1 [00:00<00:00,  9.55it/s]\n",
            "100%|██████████| 3/3 [00:00<00:00, 13.95it/s]\n"
          ]
        },
        {
          "output_type": "stream",
          "name": "stdout",
          "text": [
            "Epoch:14 Train Loss:0.3352 Val Loss: 0.3454 Train Accuracy: 0.5864 Validation Accuracy: 0.5317\n"
          ]
        },
        {
          "output_type": "stream",
          "name": "stderr",
          "text": [
            "100%|██████████| 26/26 [00:00<00:00, 44.41it/s]\n",
            "100%|██████████| 1/1 [00:00<00:00, 12.08it/s]\n",
            "100%|██████████| 3/3 [00:00<00:00, 13.29it/s]\n"
          ]
        },
        {
          "output_type": "stream",
          "name": "stdout",
          "text": [
            "Epoch:15 Train Loss:0.3310 Val Loss: 0.3476 Train Accuracy: 0.4938 Validation Accuracy: 0.4841\n"
          ]
        },
        {
          "output_type": "stream",
          "name": "stderr",
          "text": [
            "100%|██████████| 26/26 [00:00<00:00, 45.72it/s]\n",
            "100%|██████████| 1/1 [00:00<00:00, 12.98it/s]\n",
            "100%|██████████| 3/3 [00:00<00:00, 13.44it/s]\n"
          ]
        },
        {
          "output_type": "stream",
          "name": "stdout",
          "text": [
            "Epoch:16 Train Loss:0.3310 Val Loss: 0.3459 Train Accuracy: 0.5691 Validation Accuracy: 0.4524\n"
          ]
        },
        {
          "output_type": "stream",
          "name": "stderr",
          "text": [
            "100%|██████████| 26/26 [00:00<00:00, 45.18it/s]\n",
            "100%|██████████| 1/1 [00:00<00:00, 13.21it/s]\n",
            "100%|██████████| 3/3 [00:00<00:00, 13.45it/s]\n"
          ]
        },
        {
          "output_type": "stream",
          "name": "stdout",
          "text": [
            "Epoch:17 Train Loss:0.3323 Val Loss: 0.3479 Train Accuracy: 0.5148 Validation Accuracy: 0.5317\n"
          ]
        },
        {
          "output_type": "stream",
          "name": "stderr",
          "text": [
            "100%|██████████| 26/26 [00:00<00:00, 44.88it/s]\n",
            "100%|██████████| 1/1 [00:00<00:00, 11.92it/s]\n",
            "100%|██████████| 3/3 [00:00<00:00, 13.24it/s]\n"
          ]
        },
        {
          "output_type": "stream",
          "name": "stdout",
          "text": [
            "Epoch:18 Train Loss:0.3308 Val Loss: 0.3509 Train Accuracy: 0.5346 Validation Accuracy: 0.5159\n"
          ]
        },
        {
          "output_type": "stream",
          "name": "stderr",
          "text": [
            "100%|██████████| 26/26 [00:00<00:00, 42.69it/s]\n",
            "100%|██████████| 1/1 [00:00<00:00, 13.03it/s]\n",
            "100%|██████████| 3/3 [00:00<00:00, 13.63it/s]\n"
          ]
        },
        {
          "output_type": "stream",
          "name": "stdout",
          "text": [
            "Epoch:19 Train Loss:0.3299 Val Loss: 0.3463 Train Accuracy: 0.6074 Validation Accuracy: 0.4841\n"
          ]
        },
        {
          "output_type": "stream",
          "name": "stderr",
          "text": [
            "100%|██████████| 26/26 [00:00<00:00, 44.39it/s]\n",
            "100%|██████████| 1/1 [00:00<00:00, 10.59it/s]\n",
            "100%|██████████| 3/3 [00:00<00:00, 13.65it/s]\n"
          ]
        },
        {
          "output_type": "stream",
          "name": "stdout",
          "text": [
            "Epoch:20 Train Loss:0.3296 Val Loss: 0.3445 Train Accuracy: 0.5457 Validation Accuracy: 0.4524\n"
          ]
        },
        {
          "output_type": "stream",
          "name": "stderr",
          "text": [
            "100%|██████████| 26/26 [00:00<00:00, 44.07it/s]\n",
            "100%|██████████| 1/1 [00:00<00:00, 11.37it/s]\n",
            "100%|██████████| 3/3 [00:00<00:00, 13.39it/s]\n"
          ]
        },
        {
          "output_type": "stream",
          "name": "stdout",
          "text": [
            "Epoch:21 Train Loss:0.3287 Val Loss: 0.3548 Train Accuracy: 0.5543 Validation Accuracy: 0.4683\n"
          ]
        },
        {
          "output_type": "stream",
          "name": "stderr",
          "text": [
            "100%|██████████| 26/26 [00:00<00:00, 43.22it/s]\n",
            "100%|██████████| 1/1 [00:00<00:00, 12.50it/s]\n",
            "100%|██████████| 3/3 [00:00<00:00, 14.06it/s]\n"
          ]
        },
        {
          "output_type": "stream",
          "name": "stdout",
          "text": [
            "Epoch:22 Train Loss:0.3295 Val Loss: 0.3535 Train Accuracy: 0.5296 Validation Accuracy: 0.4683\n"
          ]
        },
        {
          "output_type": "stream",
          "name": "stderr",
          "text": [
            "100%|██████████| 26/26 [00:00<00:00, 44.29it/s]\n",
            "100%|██████████| 1/1 [00:00<00:00, 12.55it/s]\n",
            "100%|██████████| 3/3 [00:00<00:00, 13.36it/s]\n"
          ]
        },
        {
          "output_type": "stream",
          "name": "stdout",
          "text": [
            "Epoch:23 Train Loss:0.3249 Val Loss: 0.3407 Train Accuracy: 0.6074 Validation Accuracy: 0.5317\n"
          ]
        },
        {
          "output_type": "stream",
          "name": "stderr",
          "text": [
            "100%|██████████| 26/26 [00:00<00:00, 44.31it/s]\n",
            "100%|██████████| 1/1 [00:00<00:00, 12.31it/s]\n",
            "100%|██████████| 3/3 [00:00<00:00, 14.24it/s]\n"
          ]
        },
        {
          "output_type": "stream",
          "name": "stdout",
          "text": [
            "Epoch:24 Train Loss:0.3275 Val Loss: 0.3506 Train Accuracy: 0.5346 Validation Accuracy: 0.5952\n"
          ]
        },
        {
          "output_type": "stream",
          "name": "stderr",
          "text": [
            "100%|██████████| 26/26 [00:00<00:00, 44.99it/s]\n",
            "100%|██████████| 1/1 [00:00<00:00, 11.99it/s]\n",
            "100%|██████████| 3/3 [00:00<00:00, 14.19it/s]\n"
          ]
        },
        {
          "output_type": "stream",
          "name": "stdout",
          "text": [
            "Epoch:25 Train Loss:0.3295 Val Loss: 0.3476 Train Accuracy: 0.5543 Validation Accuracy: 0.5794\n"
          ]
        },
        {
          "output_type": "stream",
          "name": "stderr",
          "text": [
            "100%|██████████| 26/26 [00:00<00:00, 45.47it/s]\n",
            "100%|██████████| 1/1 [00:00<00:00, 12.05it/s]\n",
            "100%|██████████| 3/3 [00:00<00:00, 13.05it/s]\n"
          ]
        },
        {
          "output_type": "stream",
          "name": "stdout",
          "text": [
            "Epoch:26 Train Loss:0.3244 Val Loss: 0.3482 Train Accuracy: 0.5852 Validation Accuracy: 0.5317\n"
          ]
        },
        {
          "output_type": "stream",
          "name": "stderr",
          "text": [
            "100%|██████████| 26/26 [00:00<00:00, 45.35it/s]\n",
            "100%|██████████| 1/1 [00:00<00:00, 12.11it/s]\n",
            "100%|██████████| 3/3 [00:00<00:00, 13.93it/s]\n"
          ]
        },
        {
          "output_type": "stream",
          "name": "stdout",
          "text": [
            "Epoch:27 Train Loss:0.3238 Val Loss: 0.3495 Train Accuracy: 0.5926 Validation Accuracy: 0.4524\n"
          ]
        },
        {
          "output_type": "stream",
          "name": "stderr",
          "text": [
            "100%|██████████| 26/26 [00:00<00:00, 45.84it/s]\n",
            "100%|██████████| 1/1 [00:00<00:00, 11.78it/s]\n",
            "100%|██████████| 3/3 [00:00<00:00, 13.99it/s]\n"
          ]
        },
        {
          "output_type": "stream",
          "name": "stdout",
          "text": [
            "Epoch:28 Train Loss:0.3221 Val Loss: 0.3388 Train Accuracy: 0.6284 Validation Accuracy: 0.5317\n"
          ]
        },
        {
          "output_type": "stream",
          "name": "stderr",
          "text": [
            "100%|██████████| 26/26 [00:00<00:00, 44.74it/s]\n",
            "100%|██████████| 1/1 [00:00<00:00, 12.56it/s]\n",
            "100%|██████████| 3/3 [00:00<00:00, 13.95it/s]\n"
          ]
        },
        {
          "output_type": "stream",
          "name": "stdout",
          "text": [
            "Epoch:29 Train Loss:0.3231 Val Loss: 0.3433 Train Accuracy: 0.5827 Validation Accuracy: 0.5317\n"
          ]
        },
        {
          "output_type": "stream",
          "name": "stderr",
          "text": [
            "100%|██████████| 26/26 [00:00<00:00, 45.49it/s]\n",
            "100%|██████████| 1/1 [00:00<00:00, 12.78it/s]\n",
            "100%|██████████| 3/3 [00:00<00:00, 13.84it/s]\n"
          ]
        },
        {
          "output_type": "stream",
          "name": "stdout",
          "text": [
            "Epoch:30 Train Loss:0.3231 Val Loss: 0.3576 Train Accuracy: 0.5642 Validation Accuracy: 0.4683\n"
          ]
        },
        {
          "output_type": "stream",
          "name": "stderr",
          "text": [
            "100%|██████████| 26/26 [00:00<00:00, 44.78it/s]\n",
            "100%|██████████| 1/1 [00:00<00:00, 12.61it/s]\n",
            "100%|██████████| 3/3 [00:00<00:00, 13.75it/s]\n"
          ]
        },
        {
          "output_type": "stream",
          "name": "stdout",
          "text": [
            "Epoch:31 Train Loss:0.3200 Val Loss: 0.3462 Train Accuracy: 0.6333 Validation Accuracy: 0.5794\n"
          ]
        },
        {
          "output_type": "stream",
          "name": "stderr",
          "text": [
            "100%|██████████| 26/26 [00:00<00:00, 42.74it/s]\n",
            "100%|██████████| 1/1 [00:00<00:00, 12.06it/s]\n",
            "100%|██████████| 3/3 [00:00<00:00, 13.45it/s]\n"
          ]
        },
        {
          "output_type": "stream",
          "name": "stdout",
          "text": [
            "Epoch:32 Train Loss:0.3223 Val Loss: 0.3477 Train Accuracy: 0.5840 Validation Accuracy: 0.4841\n"
          ]
        },
        {
          "output_type": "stream",
          "name": "stderr",
          "text": [
            "100%|██████████| 26/26 [00:00<00:00, 43.61it/s]\n",
            "100%|██████████| 1/1 [00:00<00:00, 12.60it/s]\n",
            "100%|██████████| 3/3 [00:00<00:00, 13.62it/s]\n"
          ]
        },
        {
          "output_type": "stream",
          "name": "stdout",
          "text": [
            "Epoch:33 Train Loss:0.3198 Val Loss: 0.3461 Train Accuracy: 0.6370 Validation Accuracy: 0.5794\n"
          ]
        },
        {
          "output_type": "stream",
          "name": "stderr",
          "text": [
            "100%|██████████| 26/26 [00:00<00:00, 45.38it/s]\n",
            "100%|██████████| 1/1 [00:00<00:00, 12.29it/s]\n",
            "100%|██████████| 3/3 [00:00<00:00, 13.45it/s]\n"
          ]
        },
        {
          "output_type": "stream",
          "name": "stdout",
          "text": [
            "Epoch:34 Train Loss:0.3200 Val Loss: 0.3373 Train Accuracy: 0.6346 Validation Accuracy: 0.5317\n"
          ]
        },
        {
          "output_type": "stream",
          "name": "stderr",
          "text": [
            "100%|██████████| 26/26 [00:00<00:00, 44.33it/s]\n",
            "100%|██████████| 1/1 [00:00<00:00, 12.80it/s]\n",
            "100%|██████████| 3/3 [00:00<00:00, 13.51it/s]\n"
          ]
        },
        {
          "output_type": "stream",
          "name": "stdout",
          "text": [
            "Epoch:35 Train Loss:0.3223 Val Loss: 0.3492 Train Accuracy: 0.5691 Validation Accuracy: 0.4841\n"
          ]
        },
        {
          "output_type": "stream",
          "name": "stderr",
          "text": [
            "100%|██████████| 26/26 [00:00<00:00, 44.55it/s]\n",
            "100%|██████████| 1/1 [00:00<00:00, 13.01it/s]\n",
            "100%|██████████| 3/3 [00:00<00:00, 13.36it/s]\n"
          ]
        },
        {
          "output_type": "stream",
          "name": "stdout",
          "text": [
            "Epoch:36 Train Loss:0.3166 Val Loss: 0.3570 Train Accuracy: 0.6123 Validation Accuracy: 0.4683\n"
          ]
        },
        {
          "output_type": "stream",
          "name": "stderr",
          "text": [
            "100%|██████████| 26/26 [00:00<00:00, 44.46it/s]\n",
            "100%|██████████| 1/1 [00:00<00:00, 12.28it/s]\n",
            "100%|██████████| 3/3 [00:00<00:00, 13.92it/s]\n"
          ]
        },
        {
          "output_type": "stream",
          "name": "stdout",
          "text": [
            "Epoch:37 Train Loss:0.3167 Val Loss: 0.3436 Train Accuracy: 0.6617 Validation Accuracy: 0.5794\n"
          ]
        },
        {
          "output_type": "stream",
          "name": "stderr",
          "text": [
            "100%|██████████| 26/26 [00:00<00:00, 44.25it/s]\n",
            "100%|██████████| 1/1 [00:00<00:00, 10.83it/s]\n",
            "100%|██████████| 3/3 [00:00<00:00, 13.63it/s]\n"
          ]
        },
        {
          "output_type": "stream",
          "name": "stdout",
          "text": [
            "Epoch:38 Train Loss:0.3163 Val Loss: 0.3531 Train Accuracy: 0.6494 Validation Accuracy: 0.5159\n"
          ]
        },
        {
          "output_type": "stream",
          "name": "stderr",
          "text": [
            "100%|██████████| 26/26 [00:00<00:00, 43.78it/s]\n",
            "100%|██████████| 1/1 [00:00<00:00, 12.42it/s]\n",
            "100%|██████████| 3/3 [00:00<00:00, 13.61it/s]\n"
          ]
        },
        {
          "output_type": "stream",
          "name": "stdout",
          "text": [
            "Epoch:39 Train Loss:0.3162 Val Loss: 0.3436 Train Accuracy: 0.6457 Validation Accuracy: 0.5794\n"
          ]
        },
        {
          "output_type": "stream",
          "name": "stderr",
          "text": [
            "100%|██████████| 26/26 [00:00<00:00, 44.53it/s]\n",
            "100%|██████████| 1/1 [00:00<00:00, 12.03it/s]\n",
            "100%|██████████| 3/3 [00:00<00:00, 13.39it/s]\n"
          ]
        },
        {
          "output_type": "stream",
          "name": "stdout",
          "text": [
            "Epoch:40 Train Loss:0.3164 Val Loss: 0.3446 Train Accuracy: 0.6272 Validation Accuracy: 0.5794\n"
          ]
        },
        {
          "output_type": "stream",
          "name": "stderr",
          "text": [
            "100%|██████████| 26/26 [00:00<00:00, 44.08it/s]\n",
            "100%|██████████| 1/1 [00:00<00:00, 11.49it/s]\n",
            "100%|██████████| 3/3 [00:00<00:00, 13.70it/s]\n"
          ]
        },
        {
          "output_type": "stream",
          "name": "stdout",
          "text": [
            "Epoch:41 Train Loss:0.3140 Val Loss: 0.3523 Train Accuracy: 0.6753 Validation Accuracy: 0.5952\n"
          ]
        },
        {
          "output_type": "stream",
          "name": "stderr",
          "text": [
            "100%|██████████| 26/26 [00:00<00:00, 42.87it/s]\n",
            "100%|██████████| 1/1 [00:00<00:00, 11.61it/s]\n",
            "100%|██████████| 3/3 [00:00<00:00, 13.29it/s]\n"
          ]
        },
        {
          "output_type": "stream",
          "name": "stdout",
          "text": [
            "Epoch:42 Train Loss:0.3149 Val Loss: 0.3456 Train Accuracy: 0.6506 Validation Accuracy: 0.5794\n"
          ]
        },
        {
          "output_type": "stream",
          "name": "stderr",
          "text": [
            "100%|██████████| 26/26 [00:00<00:00, 42.26it/s]\n",
            "100%|██████████| 1/1 [00:00<00:00, 11.95it/s]\n",
            "100%|██████████| 3/3 [00:00<00:00, 13.43it/s]\n"
          ]
        },
        {
          "output_type": "stream",
          "name": "stdout",
          "text": [
            "Epoch:43 Train Loss:0.3123 Val Loss: 0.3487 Train Accuracy: 0.6901 Validation Accuracy: 0.4841\n"
          ]
        },
        {
          "output_type": "stream",
          "name": "stderr",
          "text": [
            "100%|██████████| 26/26 [00:00<00:00, 43.51it/s]\n",
            "100%|██████████| 1/1 [00:00<00:00, 10.66it/s]\n",
            "100%|██████████| 3/3 [00:00<00:00, 13.60it/s]\n"
          ]
        },
        {
          "output_type": "stream",
          "name": "stdout",
          "text": [
            "Epoch:44 Train Loss:0.3112 Val Loss: 0.3474 Train Accuracy: 0.6790 Validation Accuracy: 0.4841\n"
          ]
        },
        {
          "output_type": "stream",
          "name": "stderr",
          "text": [
            "100%|██████████| 26/26 [00:00<00:00, 43.54it/s]\n",
            "100%|██████████| 1/1 [00:00<00:00, 12.65it/s]\n",
            "100%|██████████| 3/3 [00:00<00:00, 13.24it/s]\n"
          ]
        },
        {
          "output_type": "stream",
          "name": "stdout",
          "text": [
            "Epoch:45 Train Loss:0.3139 Val Loss: 0.3618 Train Accuracy: 0.6259 Validation Accuracy: 0.4683\n"
          ]
        },
        {
          "output_type": "stream",
          "name": "stderr",
          "text": [
            "100%|██████████| 26/26 [00:00<00:00, 44.30it/s]\n",
            "100%|██████████| 1/1 [00:00<00:00, 11.81it/s]\n",
            "100%|██████████| 3/3 [00:00<00:00, 13.48it/s]\n"
          ]
        },
        {
          "output_type": "stream",
          "name": "stdout",
          "text": [
            "Epoch:46 Train Loss:0.3118 Val Loss: 0.3438 Train Accuracy: 0.6568 Validation Accuracy: 0.5794\n"
          ]
        },
        {
          "output_type": "stream",
          "name": "stderr",
          "text": [
            "100%|██████████| 26/26 [00:00<00:00, 42.89it/s]\n",
            "100%|██████████| 1/1 [00:00<00:00, 11.97it/s]\n",
            "100%|██████████| 3/3 [00:00<00:00, 13.72it/s]\n"
          ]
        },
        {
          "output_type": "stream",
          "name": "stdout",
          "text": [
            "Epoch:47 Train Loss:0.3099 Val Loss: 0.3484 Train Accuracy: 0.6519 Validation Accuracy: 0.4841\n"
          ]
        },
        {
          "output_type": "stream",
          "name": "stderr",
          "text": [
            "100%|██████████| 26/26 [00:00<00:00, 43.08it/s]\n",
            "100%|██████████| 1/1 [00:00<00:00, 12.94it/s]\n",
            "100%|██████████| 3/3 [00:00<00:00, 13.71it/s]\n"
          ]
        },
        {
          "output_type": "stream",
          "name": "stdout",
          "text": [
            "Epoch:48 Train Loss:0.3100 Val Loss: 0.3573 Train Accuracy: 0.6605 Validation Accuracy: 0.4683\n"
          ]
        },
        {
          "output_type": "stream",
          "name": "stderr",
          "text": [
            "100%|██████████| 26/26 [00:00<00:00, 43.45it/s]\n",
            "100%|██████████| 1/1 [00:00<00:00, 10.53it/s]\n",
            "100%|██████████| 3/3 [00:00<00:00, 14.23it/s]\n"
          ]
        },
        {
          "output_type": "stream",
          "name": "stdout",
          "text": [
            "Epoch:49 Train Loss:0.3091 Val Loss: 0.3658 Train Accuracy: 0.6580 Validation Accuracy: 0.4683\n"
          ]
        },
        {
          "output_type": "stream",
          "name": "stderr",
          "text": [
            "100%|██████████| 26/26 [00:00<00:00, 44.19it/s]\n",
            "100%|██████████| 1/1 [00:00<00:00, 12.70it/s]\n",
            "100%|██████████| 3/3 [00:00<00:00, 13.89it/s]\n"
          ]
        },
        {
          "output_type": "stream",
          "name": "stdout",
          "text": [
            "Epoch:50 Train Loss:0.3092 Val Loss: 0.3692 Train Accuracy: 0.6494 Validation Accuracy: 0.5159\n"
          ]
        },
        {
          "output_type": "stream",
          "name": "stderr",
          "text": [
            "100%|██████████| 26/26 [00:00<00:00, 43.14it/s]\n",
            "100%|██████████| 1/1 [00:00<00:00, 11.81it/s]\n",
            "100%|██████████| 3/3 [00:00<00:00, 13.27it/s]\n"
          ]
        },
        {
          "output_type": "stream",
          "name": "stdout",
          "text": [
            "Epoch:51 Train Loss:0.3069 Val Loss: 0.3621 Train Accuracy: 0.6691 Validation Accuracy: 0.4683\n"
          ]
        },
        {
          "output_type": "stream",
          "name": "stderr",
          "text": [
            "100%|██████████| 26/26 [00:00<00:00, 44.03it/s]\n",
            "100%|██████████| 1/1 [00:00<00:00, 12.22it/s]\n",
            "100%|██████████| 3/3 [00:00<00:00, 13.75it/s]\n"
          ]
        },
        {
          "output_type": "stream",
          "name": "stdout",
          "text": [
            "Epoch:52 Train Loss:0.3072 Val Loss: 0.3434 Train Accuracy: 0.6654 Validation Accuracy: 0.5794\n"
          ]
        },
        {
          "output_type": "stream",
          "name": "stderr",
          "text": [
            "100%|██████████| 26/26 [00:00<00:00, 44.57it/s]\n",
            "100%|██████████| 1/1 [00:00<00:00, 11.56it/s]\n",
            "100%|██████████| 3/3 [00:00<00:00, 13.40it/s]\n"
          ]
        },
        {
          "output_type": "stream",
          "name": "stdout",
          "text": [
            "Epoch:53 Train Loss:0.3035 Val Loss: 0.3589 Train Accuracy: 0.6728 Validation Accuracy: 0.4683\n"
          ]
        },
        {
          "output_type": "stream",
          "name": "stderr",
          "text": [
            "100%|██████████| 26/26 [00:00<00:00, 44.36it/s]\n",
            "100%|██████████| 1/1 [00:00<00:00, 10.99it/s]\n",
            "100%|██████████| 3/3 [00:00<00:00, 13.44it/s]\n"
          ]
        },
        {
          "output_type": "stream",
          "name": "stdout",
          "text": [
            "Epoch:54 Train Loss:0.3067 Val Loss: 0.3609 Train Accuracy: 0.6802 Validation Accuracy: 0.4683\n"
          ]
        },
        {
          "output_type": "stream",
          "name": "stderr",
          "text": [
            "100%|██████████| 26/26 [00:00<00:00, 44.15it/s]\n",
            "100%|██████████| 1/1 [00:00<00:00, 10.53it/s]\n",
            "100%|██████████| 3/3 [00:00<00:00, 13.32it/s]\n"
          ]
        },
        {
          "output_type": "stream",
          "name": "stdout",
          "text": [
            "Epoch:55 Train Loss:0.3037 Val Loss: 0.3599 Train Accuracy: 0.6877 Validation Accuracy: 0.4683\n"
          ]
        },
        {
          "output_type": "stream",
          "name": "stderr",
          "text": [
            "100%|██████████| 26/26 [00:00<00:00, 44.05it/s]\n",
            "100%|██████████| 1/1 [00:00<00:00, 12.67it/s]\n",
            "100%|██████████| 3/3 [00:00<00:00, 13.34it/s]\n"
          ]
        },
        {
          "output_type": "stream",
          "name": "stdout",
          "text": [
            "Epoch:56 Train Loss:0.3047 Val Loss: 0.3497 Train Accuracy: 0.6741 Validation Accuracy: 0.5317\n"
          ]
        },
        {
          "output_type": "stream",
          "name": "stderr",
          "text": [
            "100%|██████████| 26/26 [00:00<00:00, 46.17it/s]\n",
            "100%|██████████| 1/1 [00:00<00:00, 12.80it/s]\n",
            "100%|██████████| 3/3 [00:00<00:00, 12.86it/s]\n"
          ]
        },
        {
          "output_type": "stream",
          "name": "stdout",
          "text": [
            "Epoch:57 Train Loss:0.3034 Val Loss: 0.3443 Train Accuracy: 0.6691 Validation Accuracy: 0.5317\n"
          ]
        },
        {
          "output_type": "stream",
          "name": "stderr",
          "text": [
            "100%|██████████| 26/26 [00:00<00:00, 44.08it/s]\n",
            "100%|██████████| 1/1 [00:00<00:00, 13.09it/s]\n",
            "100%|██████████| 3/3 [00:00<00:00, 13.91it/s]\n"
          ]
        },
        {
          "output_type": "stream",
          "name": "stdout",
          "text": [
            "Epoch:58 Train Loss:0.3007 Val Loss: 0.3514 Train Accuracy: 0.6938 Validation Accuracy: 0.4841\n"
          ]
        },
        {
          "output_type": "stream",
          "name": "stderr",
          "text": [
            "100%|██████████| 26/26 [00:00<00:00, 42.95it/s]\n",
            "100%|██████████| 1/1 [00:00<00:00, 12.56it/s]\n",
            "100%|██████████| 3/3 [00:00<00:00, 12.72it/s]\n"
          ]
        },
        {
          "output_type": "stream",
          "name": "stdout",
          "text": [
            "Epoch:59 Train Loss:0.3014 Val Loss: 0.3438 Train Accuracy: 0.7111 Validation Accuracy: 0.5794\n"
          ]
        },
        {
          "output_type": "stream",
          "name": "stderr",
          "text": [
            "100%|██████████| 26/26 [00:00<00:00, 44.43it/s]\n",
            "100%|██████████| 1/1 [00:00<00:00, 13.09it/s]\n",
            "100%|██████████| 3/3 [00:00<00:00, 13.53it/s]\n"
          ]
        },
        {
          "output_type": "stream",
          "name": "stdout",
          "text": [
            "Epoch:60 Train Loss:0.3023 Val Loss: 0.3476 Train Accuracy: 0.6691 Validation Accuracy: 0.5317\n"
          ]
        },
        {
          "output_type": "stream",
          "name": "stderr",
          "text": [
            "100%|██████████| 26/26 [00:00<00:00, 44.70it/s]\n",
            "100%|██████████| 1/1 [00:00<00:00, 10.78it/s]\n",
            "100%|██████████| 3/3 [00:00<00:00, 13.89it/s]\n"
          ]
        },
        {
          "output_type": "stream",
          "name": "stdout",
          "text": [
            "Epoch:61 Train Loss:0.2988 Val Loss: 0.3695 Train Accuracy: 0.6864 Validation Accuracy: 0.4683\n"
          ]
        },
        {
          "output_type": "stream",
          "name": "stderr",
          "text": [
            "100%|██████████| 26/26 [00:01<00:00, 19.22it/s]\n",
            "100%|██████████| 1/1 [00:00<00:00, 12.53it/s]\n",
            "100%|██████████| 3/3 [00:00<00:00, 14.06it/s]\n"
          ]
        },
        {
          "output_type": "stream",
          "name": "stdout",
          "text": [
            "Epoch:62 Train Loss:0.3000 Val Loss: 0.3589 Train Accuracy: 0.6852 Validation Accuracy: 0.5476\n"
          ]
        },
        {
          "output_type": "stream",
          "name": "stderr",
          "text": [
            "100%|██████████| 26/26 [00:00<00:00, 44.66it/s]\n",
            "100%|██████████| 1/1 [00:00<00:00, 11.45it/s]\n",
            "100%|██████████| 3/3 [00:00<00:00, 13.03it/s]\n"
          ]
        },
        {
          "output_type": "stream",
          "name": "stdout",
          "text": [
            "Epoch:63 Train Loss:0.2995 Val Loss: 0.3692 Train Accuracy: 0.6926 Validation Accuracy: 0.4683\n"
          ]
        },
        {
          "output_type": "stream",
          "name": "stderr",
          "text": [
            "100%|██████████| 26/26 [00:00<00:00, 45.27it/s]\n",
            "100%|██████████| 1/1 [00:00<00:00, 13.26it/s]\n",
            "100%|██████████| 3/3 [00:00<00:00, 13.66it/s]\n"
          ]
        },
        {
          "output_type": "stream",
          "name": "stdout",
          "text": [
            "Epoch:64 Train Loss:0.3023 Val Loss: 0.3788 Train Accuracy: 0.6704 Validation Accuracy: 0.5159\n"
          ]
        },
        {
          "output_type": "stream",
          "name": "stderr",
          "text": [
            "100%|██████████| 26/26 [00:00<00:00, 45.88it/s]\n",
            "100%|██████████| 1/1 [00:00<00:00, 13.15it/s]\n",
            "100%|██████████| 3/3 [00:00<00:00, 13.41it/s]\n"
          ]
        },
        {
          "output_type": "stream",
          "name": "stdout",
          "text": [
            "Epoch:65 Train Loss:0.2992 Val Loss: 0.3538 Train Accuracy: 0.6988 Validation Accuracy: 0.4841\n"
          ]
        },
        {
          "output_type": "stream",
          "name": "stderr",
          "text": [
            "100%|██████████| 26/26 [00:00<00:00, 42.21it/s]\n",
            "100%|██████████| 1/1 [00:00<00:00, 12.79it/s]\n",
            "100%|██████████| 3/3 [00:00<00:00, 13.52it/s]\n"
          ]
        },
        {
          "output_type": "stream",
          "name": "stdout",
          "text": [
            "Epoch:66 Train Loss:0.2957 Val Loss: 0.3502 Train Accuracy: 0.7185 Validation Accuracy: 0.5317\n"
          ]
        },
        {
          "output_type": "stream",
          "name": "stderr",
          "text": [
            "100%|██████████| 26/26 [00:00<00:00, 43.66it/s]\n",
            "100%|██████████| 1/1 [00:00<00:00, 11.88it/s]\n",
            "100%|██████████| 3/3 [00:00<00:00, 14.00it/s]\n"
          ]
        },
        {
          "output_type": "stream",
          "name": "stdout",
          "text": [
            "Epoch:67 Train Loss:0.2951 Val Loss: 0.3492 Train Accuracy: 0.7259 Validation Accuracy: 0.5317\n"
          ]
        },
        {
          "output_type": "stream",
          "name": "stderr",
          "text": [
            "100%|██████████| 26/26 [00:00<00:00, 44.54it/s]\n",
            "100%|██████████| 1/1 [00:00<00:00, 12.92it/s]\n",
            "100%|██████████| 3/3 [00:00<00:00, 13.41it/s]\n"
          ]
        },
        {
          "output_type": "stream",
          "name": "stdout",
          "text": [
            "Epoch:68 Train Loss:0.2946 Val Loss: 0.3557 Train Accuracy: 0.7000 Validation Accuracy: 0.4365\n"
          ]
        },
        {
          "output_type": "stream",
          "name": "stderr",
          "text": [
            "100%|██████████| 26/26 [00:00<00:00, 44.34it/s]\n",
            "100%|██████████| 1/1 [00:00<00:00, 12.10it/s]\n",
            "100%|██████████| 3/3 [00:00<00:00, 12.94it/s]\n"
          ]
        },
        {
          "output_type": "stream",
          "name": "stdout",
          "text": [
            "Epoch:69 Train Loss:0.2921 Val Loss: 0.3572 Train Accuracy: 0.7074 Validation Accuracy: 0.4365\n"
          ]
        },
        {
          "output_type": "stream",
          "name": "stderr",
          "text": [
            "100%|██████████| 26/26 [00:00<00:00, 42.40it/s]\n",
            "100%|██████████| 1/1 [00:00<00:00, 11.48it/s]\n",
            "100%|██████████| 3/3 [00:00<00:00, 13.44it/s]\n"
          ]
        },
        {
          "output_type": "stream",
          "name": "stdout",
          "text": [
            "Epoch:70 Train Loss:0.2966 Val Loss: 0.3498 Train Accuracy: 0.7148 Validation Accuracy: 0.5317\n"
          ]
        },
        {
          "output_type": "stream",
          "name": "stderr",
          "text": [
            "100%|██████████| 26/26 [00:00<00:00, 43.55it/s]\n",
            "100%|██████████| 1/1 [00:00<00:00, 12.84it/s]\n",
            "100%|██████████| 3/3 [00:00<00:00, 13.12it/s]\n"
          ]
        },
        {
          "output_type": "stream",
          "name": "stdout",
          "text": [
            "Epoch:71 Train Loss:0.2940 Val Loss: 0.3479 Train Accuracy: 0.7173 Validation Accuracy: 0.5317\n"
          ]
        },
        {
          "output_type": "stream",
          "name": "stderr",
          "text": [
            "100%|██████████| 26/26 [00:00<00:00, 44.36it/s]\n",
            "100%|██████████| 1/1 [00:00<00:00, 12.53it/s]\n",
            "100%|██████████| 3/3 [00:00<00:00, 13.60it/s]\n"
          ]
        },
        {
          "output_type": "stream",
          "name": "stdout",
          "text": [
            "Epoch:72 Train Loss:0.2976 Val Loss: 0.3727 Train Accuracy: 0.6852 Validation Accuracy: 0.4683\n"
          ]
        },
        {
          "output_type": "stream",
          "name": "stderr",
          "text": [
            "100%|██████████| 26/26 [00:00<00:00, 43.90it/s]\n",
            "100%|██████████| 1/1 [00:00<00:00, 11.84it/s]\n",
            "100%|██████████| 3/3 [00:00<00:00, 14.08it/s]\n"
          ]
        },
        {
          "output_type": "stream",
          "name": "stdout",
          "text": [
            "Epoch:73 Train Loss:0.2911 Val Loss: 0.3731 Train Accuracy: 0.7358 Validation Accuracy: 0.4683\n"
          ]
        },
        {
          "output_type": "stream",
          "name": "stderr",
          "text": [
            "100%|██████████| 26/26 [00:00<00:00, 44.09it/s]\n",
            "100%|██████████| 1/1 [00:00<00:00, 12.72it/s]\n",
            "100%|██████████| 3/3 [00:00<00:00, 13.31it/s]\n"
          ]
        },
        {
          "output_type": "stream",
          "name": "stdout",
          "text": [
            "Epoch:74 Train Loss:0.2936 Val Loss: 0.3473 Train Accuracy: 0.6852 Validation Accuracy: 0.4841\n"
          ]
        },
        {
          "output_type": "stream",
          "name": "stderr",
          "text": [
            "100%|██████████| 26/26 [00:00<00:00, 45.66it/s]\n",
            "100%|██████████| 1/1 [00:00<00:00, 10.90it/s]\n",
            "100%|██████████| 3/3 [00:00<00:00, 13.68it/s]\n"
          ]
        },
        {
          "output_type": "stream",
          "name": "stdout",
          "text": [
            "Epoch:75 Train Loss:0.2920 Val Loss: 0.3472 Train Accuracy: 0.7235 Validation Accuracy: 0.5317\n"
          ]
        },
        {
          "output_type": "stream",
          "name": "stderr",
          "text": [
            "100%|██████████| 26/26 [00:00<00:00, 45.34it/s]\n",
            "100%|██████████| 1/1 [00:00<00:00, 11.64it/s]\n",
            "100%|██████████| 3/3 [00:00<00:00, 14.48it/s]\n"
          ]
        },
        {
          "output_type": "stream",
          "name": "stdout",
          "text": [
            "Epoch:76 Train Loss:0.2885 Val Loss: 0.3723 Train Accuracy: 0.7099 Validation Accuracy: 0.4683\n"
          ]
        },
        {
          "output_type": "stream",
          "name": "stderr",
          "text": [
            "100%|██████████| 26/26 [00:00<00:00, 42.67it/s]\n",
            "100%|██████████| 1/1 [00:00<00:00, 13.26it/s]\n",
            "100%|██████████| 3/3 [00:00<00:00, 12.65it/s]\n"
          ]
        },
        {
          "output_type": "stream",
          "name": "stdout",
          "text": [
            "Epoch:77 Train Loss:0.2911 Val Loss: 0.3578 Train Accuracy: 0.7272 Validation Accuracy: 0.4365\n"
          ]
        },
        {
          "output_type": "stream",
          "name": "stderr",
          "text": [
            "100%|██████████| 26/26 [00:00<00:00, 42.63it/s]\n",
            "100%|██████████| 1/1 [00:00<00:00, 11.36it/s]\n",
            "100%|██████████| 3/3 [00:00<00:00, 13.53it/s]\n"
          ]
        },
        {
          "output_type": "stream",
          "name": "stdout",
          "text": [
            "Epoch:78 Train Loss:0.2899 Val Loss: 0.3827 Train Accuracy: 0.7037 Validation Accuracy: 0.4683\n"
          ]
        },
        {
          "output_type": "stream",
          "name": "stderr",
          "text": [
            "100%|██████████| 26/26 [00:00<00:00, 43.77it/s]\n",
            "100%|██████████| 1/1 [00:00<00:00, 12.62it/s]\n",
            "100%|██████████| 3/3 [00:00<00:00, 14.16it/s]\n"
          ]
        },
        {
          "output_type": "stream",
          "name": "stdout",
          "text": [
            "Epoch:79 Train Loss:0.2905 Val Loss: 0.3527 Train Accuracy: 0.7185 Validation Accuracy: 0.5317\n"
          ]
        },
        {
          "output_type": "stream",
          "name": "stderr",
          "text": [
            "100%|██████████| 26/26 [00:00<00:00, 43.28it/s]\n",
            "100%|██████████| 1/1 [00:00<00:00, 11.43it/s]\n",
            "100%|██████████| 3/3 [00:00<00:00, 13.69it/s]\n"
          ]
        },
        {
          "output_type": "stream",
          "name": "stdout",
          "text": [
            "Epoch:80 Train Loss:0.2897 Val Loss: 0.3659 Train Accuracy: 0.7173 Validation Accuracy: 0.4524\n"
          ]
        },
        {
          "output_type": "stream",
          "name": "stderr",
          "text": [
            "100%|██████████| 26/26 [00:00<00:00, 44.71it/s]\n",
            "100%|██████████| 1/1 [00:00<00:00, 13.15it/s]\n",
            "100%|██████████| 3/3 [00:00<00:00, 13.34it/s]\n"
          ]
        },
        {
          "output_type": "stream",
          "name": "stdout",
          "text": [
            "Epoch:81 Train Loss:0.2887 Val Loss: 0.3673 Train Accuracy: 0.7185 Validation Accuracy: 0.5000\n"
          ]
        },
        {
          "output_type": "stream",
          "name": "stderr",
          "text": [
            "100%|██████████| 26/26 [00:00<00:00, 44.08it/s]\n",
            "100%|██████████| 1/1 [00:00<00:00, 11.50it/s]\n",
            "100%|██████████| 3/3 [00:00<00:00, 13.13it/s]\n"
          ]
        },
        {
          "output_type": "stream",
          "name": "stdout",
          "text": [
            "Epoch:82 Train Loss:0.2855 Val Loss: 0.3638 Train Accuracy: 0.7247 Validation Accuracy: 0.4048\n"
          ]
        },
        {
          "output_type": "stream",
          "name": "stderr",
          "text": [
            "100%|██████████| 26/26 [00:00<00:00, 43.20it/s]\n",
            "100%|██████████| 1/1 [00:00<00:00, 10.83it/s]\n",
            "100%|██████████| 3/3 [00:00<00:00, 12.61it/s]\n"
          ]
        },
        {
          "output_type": "stream",
          "name": "stdout",
          "text": [
            "Epoch:83 Train Loss:0.2881 Val Loss: 0.3582 Train Accuracy: 0.7321 Validation Accuracy: 0.4365\n"
          ]
        },
        {
          "output_type": "stream",
          "name": "stderr",
          "text": [
            "100%|██████████| 26/26 [00:00<00:00, 44.24it/s]\n",
            "100%|██████████| 1/1 [00:00<00:00, 10.42it/s]\n",
            "100%|██████████| 3/3 [00:00<00:00, 13.41it/s]\n"
          ]
        },
        {
          "output_type": "stream",
          "name": "stdout",
          "text": [
            "Epoch:84 Train Loss:0.2874 Val Loss: 0.3577 Train Accuracy: 0.7247 Validation Accuracy: 0.4365\n"
          ]
        },
        {
          "output_type": "stream",
          "name": "stderr",
          "text": [
            "100%|██████████| 26/26 [00:00<00:00, 44.77it/s]\n",
            "100%|██████████| 1/1 [00:00<00:00, 13.05it/s]\n",
            "100%|██████████| 3/3 [00:00<00:00, 13.33it/s]\n"
          ]
        },
        {
          "output_type": "stream",
          "name": "stdout",
          "text": [
            "Epoch:85 Train Loss:0.2856 Val Loss: 0.3497 Train Accuracy: 0.7444 Validation Accuracy: 0.5317\n"
          ]
        },
        {
          "output_type": "stream",
          "name": "stderr",
          "text": [
            "100%|██████████| 26/26 [00:00<00:00, 45.62it/s]\n",
            "100%|██████████| 1/1 [00:00<00:00, 10.71it/s]\n",
            "100%|██████████| 3/3 [00:00<00:00, 13.87it/s]\n"
          ]
        },
        {
          "output_type": "stream",
          "name": "stdout",
          "text": [
            "Epoch:86 Train Loss:0.2886 Val Loss: 0.3498 Train Accuracy: 0.7148 Validation Accuracy: 0.5317\n"
          ]
        },
        {
          "output_type": "stream",
          "name": "stderr",
          "text": [
            "100%|██████████| 26/26 [00:00<00:00, 44.29it/s]\n",
            "100%|██████████| 1/1 [00:00<00:00, 12.79it/s]\n",
            "100%|██████████| 3/3 [00:00<00:00, 13.62it/s]\n"
          ]
        },
        {
          "output_type": "stream",
          "name": "stdout",
          "text": [
            "Epoch:87 Train Loss:0.2906 Val Loss: 0.3537 Train Accuracy: 0.6988 Validation Accuracy: 0.5317\n"
          ]
        },
        {
          "output_type": "stream",
          "name": "stderr",
          "text": [
            "100%|██████████| 26/26 [00:00<00:00, 43.39it/s]\n",
            "100%|██████████| 1/1 [00:00<00:00, 12.39it/s]\n",
            "100%|██████████| 3/3 [00:00<00:00,  6.68it/s]\n"
          ]
        },
        {
          "output_type": "stream",
          "name": "stdout",
          "text": [
            "Epoch:88 Train Loss:0.2863 Val Loss: 0.3548 Train Accuracy: 0.7321 Validation Accuracy: 0.5317\n"
          ]
        },
        {
          "output_type": "stream",
          "name": "stderr",
          "text": [
            "100%|██████████| 26/26 [00:01<00:00, 22.50it/s]\n",
            "100%|██████████| 1/1 [00:00<00:00,  6.44it/s]\n",
            "100%|██████████| 3/3 [00:00<00:00,  8.03it/s]\n"
          ]
        },
        {
          "output_type": "stream",
          "name": "stdout",
          "text": [
            "Epoch:89 Train Loss:0.2860 Val Loss: 0.3610 Train Accuracy: 0.7160 Validation Accuracy: 0.4365\n"
          ]
        },
        {
          "output_type": "stream",
          "name": "stderr",
          "text": [
            "100%|██████████| 26/26 [00:00<00:00, 28.21it/s]\n",
            "100%|██████████| 1/1 [00:00<00:00,  7.70it/s]\n",
            "100%|██████████| 3/3 [00:00<00:00,  8.45it/s]\n"
          ]
        },
        {
          "output_type": "stream",
          "name": "stdout",
          "text": [
            "Epoch:90 Train Loss:0.2865 Val Loss: 0.3576 Train Accuracy: 0.7185 Validation Accuracy: 0.5317\n"
          ]
        },
        {
          "output_type": "stream",
          "name": "stderr",
          "text": [
            "100%|██████████| 26/26 [00:00<00:00, 28.56it/s]\n",
            "100%|██████████| 1/1 [00:00<00:00,  7.81it/s]\n",
            "100%|██████████| 3/3 [00:00<00:00, 12.00it/s]\n"
          ]
        },
        {
          "output_type": "stream",
          "name": "stdout",
          "text": [
            "Epoch:91 Train Loss:0.2856 Val Loss: 0.3667 Train Accuracy: 0.7284 Validation Accuracy: 0.4365\n"
          ]
        },
        {
          "output_type": "stream",
          "name": "stderr",
          "text": [
            "100%|██████████| 26/26 [00:01<00:00, 15.54it/s]\n",
            "100%|██████████| 1/1 [00:00<00:00,  2.88it/s]\n",
            "100%|██████████| 3/3 [00:00<00:00,  3.53it/s]\n"
          ]
        },
        {
          "output_type": "stream",
          "name": "stdout",
          "text": [
            "Epoch:92 Train Loss:0.2815 Val Loss: 0.3586 Train Accuracy: 0.7321 Validation Accuracy: 0.5317\n"
          ]
        },
        {
          "output_type": "stream",
          "name": "stderr",
          "text": [
            "100%|██████████| 26/26 [00:01<00:00, 13.06it/s]\n",
            "100%|██████████| 1/1 [00:00<00:00,  4.18it/s]\n",
            "100%|██████████| 3/3 [00:00<00:00,  5.38it/s]\n"
          ]
        },
        {
          "output_type": "stream",
          "name": "stdout",
          "text": [
            "Epoch:93 Train Loss:0.2836 Val Loss: 0.3716 Train Accuracy: 0.7333 Validation Accuracy: 0.4048\n"
          ]
        },
        {
          "output_type": "stream",
          "name": "stderr",
          "text": [
            "100%|██████████| 26/26 [00:01<00:00, 17.96it/s]\n",
            "100%|██████████| 1/1 [00:00<00:00,  5.83it/s]\n",
            "100%|██████████| 3/3 [00:00<00:00,  4.92it/s]\n"
          ]
        },
        {
          "output_type": "stream",
          "name": "stdout",
          "text": [
            "Epoch:94 Train Loss:0.2841 Val Loss: 0.3871 Train Accuracy: 0.7222 Validation Accuracy: 0.4683\n"
          ]
        },
        {
          "output_type": "stream",
          "name": "stderr",
          "text": [
            "100%|██████████| 26/26 [00:01<00:00, 17.48it/s]\n",
            "100%|██████████| 1/1 [00:00<00:00,  4.58it/s]\n",
            "100%|██████████| 3/3 [00:00<00:00,  5.72it/s]\n"
          ]
        },
        {
          "output_type": "stream",
          "name": "stdout",
          "text": [
            "Epoch:95 Train Loss:0.2841 Val Loss: 0.3585 Train Accuracy: 0.7235 Validation Accuracy: 0.5317\n"
          ]
        },
        {
          "output_type": "stream",
          "name": "stderr",
          "text": [
            "100%|██████████| 26/26 [00:01<00:00, 18.25it/s]\n",
            "100%|██████████| 1/1 [00:00<00:00,  3.71it/s]\n",
            "100%|██████████| 3/3 [00:00<00:00,  4.34it/s]\n"
          ]
        },
        {
          "output_type": "stream",
          "name": "stdout",
          "text": [
            "Epoch:96 Train Loss:0.2851 Val Loss: 0.3742 Train Accuracy: 0.7272 Validation Accuracy: 0.4524\n"
          ]
        },
        {
          "output_type": "stream",
          "name": "stderr",
          "text": [
            "100%|██████████| 26/26 [00:01<00:00, 23.74it/s]\n",
            "100%|██████████| 1/1 [00:00<00:00,  3.60it/s]\n",
            "100%|██████████| 3/3 [00:00<00:00,  3.35it/s]\n"
          ]
        },
        {
          "output_type": "stream",
          "name": "stdout",
          "text": [
            "Epoch:97 Train Loss:0.2794 Val Loss: 0.3855 Train Accuracy: 0.7432 Validation Accuracy: 0.4683\n"
          ]
        },
        {
          "output_type": "stream",
          "name": "stderr",
          "text": [
            "100%|██████████| 26/26 [00:01<00:00, 13.97it/s]\n",
            "100%|██████████| 1/1 [00:00<00:00,  3.05it/s]\n",
            "100%|██████████| 3/3 [00:00<00:00,  5.32it/s]\n"
          ]
        },
        {
          "output_type": "stream",
          "name": "stdout",
          "text": [
            "Epoch:98 Train Loss:0.2821 Val Loss: 0.3656 Train Accuracy: 0.7358 Validation Accuracy: 0.4365\n"
          ]
        },
        {
          "output_type": "stream",
          "name": "stderr",
          "text": [
            "100%|██████████| 26/26 [00:01<00:00, 16.03it/s]\n",
            "100%|██████████| 1/1 [00:00<00:00,  4.90it/s]\n",
            "100%|██████████| 3/3 [00:00<00:00,  6.05it/s]\n"
          ]
        },
        {
          "output_type": "stream",
          "name": "stdout",
          "text": [
            "Epoch:99 Train Loss:0.2790 Val Loss: 0.3817 Train Accuracy: 0.7395 Validation Accuracy: 0.4683\n"
          ]
        },
        {
          "output_type": "stream",
          "name": "stderr",
          "text": [
            "100%|██████████| 26/26 [00:01<00:00, 18.64it/s]\n",
            "100%|██████████| 1/1 [00:00<00:00,  4.55it/s]\n",
            "100%|██████████| 3/3 [00:00<00:00,  6.02it/s]"
          ]
        },
        {
          "output_type": "stream",
          "name": "stdout",
          "text": [
            "Epoch:100 Train Loss:0.2813 Val Loss: 0.3649 Train Accuracy: 0.7321 Validation Accuracy: 0.4365\n"
          ]
        },
        {
          "output_type": "stream",
          "name": "stderr",
          "text": [
            "\n"
          ]
        }
      ]
    },
    {
      "cell_type": "code",
      "source": [
        "#Validation\n",
        "logits = (np.concatenate(val_history, axis=1)*(np.arange(100).reshape(1,-1)/100)).mean(axis=1).reshape(-1) #Scales weights linearly increasing from first epoch to last\n",
        "#logits = val_preds\n",
        "\n",
        "size=10\n",
        "precisions = []\n",
        "for i in range(size):\n",
        "    precisions.append(val_labels[logits>=np.quantile(logits, i/size)].mean())\n",
        "    print(i/size,\" \",val_labels[logits>=np.quantile(logits, i/size)].mean())"
      ],
      "metadata": {
        "colab": {
          "base_uri": "https://localhost:8080/"
        },
        "id": "dJ7F2eaFAY64",
        "outputId": "29488dd3-e2dc-4515-c61e-fbb909785b7c"
      },
      "execution_count": 74,
      "outputs": [
        {
          "output_type": "stream",
          "name": "stdout",
          "text": [
            "0.0   0.5317460317460317\n",
            "0.1   0.49122807017543857\n",
            "0.2   0.5098039215686274\n",
            "0.3   0.5777777777777777\n",
            "0.4   0.5897435897435898\n",
            "0.5   0.5303030303030303\n",
            "0.6   0.5370370370370371\n",
            "0.7   0.6904761904761905\n",
            "0.8   0.6\n",
            "0.9   0.6666666666666666\n"
          ]
        }
      ]
    },
    {
      "cell_type": "code",
      "source": [
        "plt.figure()\n",
        "thresholds = np.array(range(size))/10\n",
        "\n",
        "plt.plot(thresholds, precisions)\n",
        "plt.title(\"Precision vs Threshold\")\n",
        "plt.legend()\n",
        "plt.ylabel(\"Precision\")\n",
        "plt.xlabel(\"Threshold\")\n",
        "plt.show()\n"
      ],
      "metadata": {
        "colab": {
          "base_uri": "https://localhost:8080/",
          "height": 312
        },
        "id": "HsmP9VX4sQw0",
        "outputId": "7a1e0dbc-4cbc-4863-8eee-687a5bf100ca"
      },
      "execution_count": 75,
      "outputs": [
        {
          "output_type": "stream",
          "name": "stderr",
          "text": [
            "WARNING:matplotlib.legend:No handles with labels found to put in legend.\n"
          ]
        },
        {
          "output_type": "display_data",
          "data": {
            "text/plain": [
              "<Figure size 432x288 with 1 Axes>"
            ],
            "image/png": "[encoded data removed]"
          },
          "metadata": {
            "needs_background": "light"
          }
        }
      ]
    },
    {
      "cell_type": "code",
      "source": [
        "#Test\n",
        "logits = (np.concatenate(test_history, axis=1)*(np.arange(100).reshape(1,-1)/100)).mean(axis=1).reshape(-1) #Scales weights linearly increasing from first epoch to last\n",
        "#logits = val_preds\n",
        "\n",
        "size=10\n",
        "precisions = []\n",
        "for i in range(size):\n",
        "    precisions.append(test_labels[logits>=np.quantile(logits, i/size)].mean())\n",
        "    print(i/size,\" \",test_labels[logits>=np.quantile(logits, i/size)].mean())"
      ],
      "metadata": {
        "colab": {
          "base_uri": "https://localhost:8080/"
        },
        "id": "8mAq4_ayqx7o",
        "outputId": "0fb2d4db-ebdf-49ab-8cba-acabbc3c8ea2"
      },
      "execution_count": 72,
      "outputs": [
        {
          "output_type": "stream",
          "name": "stdout",
          "text": [
            "0.0   0.41839762611275966\n",
            "0.1   0.43973941368078173\n",
            "0.2   0.45387453874538747\n",
            "0.3   0.4605809128630705\n",
            "0.4   0.46078431372549017\n",
            "0.5   0.5287356321839081\n",
            "0.6   0.5942028985507246\n",
            "0.7   0.5686274509803921\n",
            "0.8   0.6388888888888888\n",
            "0.9   0.5833333333333334\n"
          ]
        }
      ]
    },
    {
      "cell_type": "code",
      "source": [
        "plt.figure()\n",
        "thresholds = np.array(range(size))/10\n",
        "\n",
        "plt.plot(thresholds, precisions)\n",
        "plt.title(\"Precision vs Threshold\")\n",
        "plt.legend()\n",
        "plt.ylabel(\"Precision\")\n",
        "plt.xlabel(\"Threshold\")\n",
        "plt.show()\n"
      ],
      "metadata": {
        "colab": {
          "base_uri": "https://localhost:8080/",
          "height": 312
        },
        "id": "L0NHfGjpA0uy",
        "outputId": "3ee5c13c-20b3-441a-f969-25d312fce49e"
      },
      "execution_count": 73,
      "outputs": [
        {
          "output_type": "stream",
          "name": "stderr",
          "text": [
            "WARNING:matplotlib.legend:No handles with labels found to put in legend.\n"
          ]
        },
        {
          "output_type": "display_data",
          "data": {
            "text/plain": [
              "<Figure size 432x288 with 1 Axes>"
            ],
            "image/png": "[encoded data removed]"
          },
          "metadata": {
            "needs_background": "light"
          }
        }
      ]
    },
    {
      "cell_type": "code",
      "source": [
        "#For just S&P500\n",
        "\"\"\"Plots the loss history\"\"\"\n",
        "plt.figure()\n",
        "epoch_idxs = range(len(train_loss_history))\n",
        "\n",
        "plt.plot(epoch_idxs, train_loss_history, \"-b\", label=\"training\")\n",
        "plt.plot(epoch_idxs, validation_loss_history, \"-r\", label=\"validation\")\n",
        "plt.title(\"Loss history\")\n",
        "plt.legend()\n",
        "plt.ylabel(\"Loss\")\n",
        "plt.xlabel(\"Epochs\")\n",
        "plt.show()\n",
        "\n",
        "\n",
        "\"\"\"Plots the accuracy history\"\"\"\n",
        "plt.figure()\n",
        "epoch_idxs = range(len(train_accuracy_history))\n",
        "plt.plot(epoch_idxs, train_accuracy_history, \"-b\", label=\"training\")\n",
        "plt.plot(epoch_idxs, validation_accuracy_history, \"-r\", label=\"validation\")\n",
        "plt.title(\"Accuracy history\")\n",
        "plt.legend()\n",
        "plt.ylabel(\"Accuracy\")\n",
        "plt.xlabel(\"Epochs\")\n",
        "plt.show()\n"
      ],
      "metadata": {
        "colab": {
          "base_uri": "https://localhost:8080/",
          "height": 573
        },
        "id": "sKB5kogfkwno",
        "outputId": "ee27ecc7-eb5d-4707-ae6d-697619d7d04a"
      },
      "execution_count": 76,
      "outputs": [
        {
          "output_type": "display_data",
          "data": {
            "text/plain": [
              "<Figure size 432x288 with 1 Axes>"
            ],
            "image/png": "[encoded data removed]"
          },
          "metadata": {
            "needs_background": "light"
          }
        },
        {
          "output_type": "display_data",
          "data": {
            "text/plain": [
              "<Figure size 432x288 with 1 Axes>"
            ],
            "image/png": "[encoded data removed]"
          },
          "metadata": {
            "needs_background": "light"
          }
        }
      ]
    },
    {
      "cell_type": "code",
      "source": [
        "#For all stocks\n",
        "\"\"\"Plots the loss history\"\"\"\n",
        "plt.figure()\n",
        "epoch_idxs = range(len(train_loss_history))\n",
        "\n",
        "plt.plot(epoch_idxs, train_loss_history, \"-b\", label=\"training\")\n",
        "plt.plot(epoch_idxs, validation_loss_history, \"-r\", label=\"validation\")\n",
        "plt.title(\"Loss history\")\n",
        "plt.legend()\n",
        "plt.ylabel(\"Loss\")\n",
        "plt.xlabel(\"Epochs\")\n",
        "plt.show()\n",
        "\n",
        "\n",
        "\"\"\"Plots the accuracy history\"\"\"\n",
        "plt.figure()\n",
        "epoch_idxs = range(len(train_accuracy_history))\n",
        "plt.plot(epoch_idxs, train_accuracy_history, \"-b\", label=\"training\")\n",
        "plt.plot(epoch_idxs, validation_accuracy_history, \"-r\", label=\"validation\")\n",
        "plt.title(\"Accuracy history\")\n",
        "plt.legend()\n",
        "plt.ylabel(\"Accuracy\")\n",
        "plt.xlabel(\"Epochs\")\n",
        "plt.show()\n"
      ],
      "metadata": {
        "colab": {
          "base_uri": "https://localhost:8080/",
          "height": 573
        },
        "id": "9N41pWaYmxp8",
        "outputId": "b4601be9-f100-4931-940b-3d619bd3edeb"
      },
      "execution_count": null,
      "outputs": [
        {
          "output_type": "display_data",
          "data": {
            "text/plain": [
              "<Figure size 432x288 with 1 Axes>"
            ],
            "image/png": "[encoded data removed]"
          },
          "metadata": {
            "needs_background": "light"
          }
        },
        {
          "output_type": "display_data",
          "data": {
            "text/plain": [
              "<Figure size 432x288 with 1 Axes>"
            ],
            "image/png": "[encoded data removed]"
          },
          "metadata": {
            "needs_background": "light"
          }
        }
      ]
    },
    {
      "cell_type": "code",
      "source": [
        "#Tried using real returns - MSE and L1Loss - got near zero or negative correlations\n",
        "#Tried having a different output layer for each ticker - worked worse than before"
      ],
      "metadata": {
        "id": "FBjM9YIvyXoP"
      },
      "execution_count": null,
      "outputs": []
    }
  ]
}